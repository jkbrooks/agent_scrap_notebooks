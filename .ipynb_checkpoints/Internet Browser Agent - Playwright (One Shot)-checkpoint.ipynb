{
 "cells": [
  {
   "cell_type": "code",
   "execution_count": 104,
   "id": "a84cab0a",
   "metadata": {},
   "outputs": [],
   "source": [
    "from langchain.agents import Tool, AgentExecutor, LLMSingleActionAgent, AgentOutputParser\n",
    "from langchain.prompts import BaseChatPromptTemplate\n",
    "from langchain import SerpAPIWrapper, LLMChain\n",
    "from langchain.chat_models import ChatOpenAI\n",
    "from typing import List, Union\n",
    "from langchain.schema import AgentAction, AgentFinish, HumanMessage\n",
    "import re\n",
    "from getpass import getpass\n",
    "\n",
    "from langchain.chat_models import ChatOpenAI\n",
    "from langchain.agents import load_tools, initialize_agent\n",
    "from langchain.agents import AgentType\n",
    "from langchain.tools import AIPluginTool"
   ]
  },
  {
   "cell_type": "code",
   "execution_count": 105,
   "id": "ccd97061",
   "metadata": {},
   "outputs": [],
   "source": [
    "from langchain.agents.agent_toolkits import PlayWrightBrowserToolkit\n",
    "from langchain.tools.playwright.utils import (\n",
    "    create_async_playwright_browser,\n",
    "    create_sync_playwright_browser,# A synchronous browser is available, though it isn't compatible with jupyter.\n",
    ")\n",
    "\n",
    "# This import is required only for jupyter notebooks, since they have their own eventloop\n",
    "import nest_asyncio\n",
    "nest_asyncio.apply()\n",
    "\n",
    "async_browser = create_async_playwright_browser()\n",
    "playwright_toolkit = PlayWrightBrowserToolkit.from_browser(async_browser=async_browser)"
   ]
  },
  {
   "cell_type": "code",
   "execution_count": 94,
   "id": "8b4b9789",
   "metadata": {},
   "outputs": [],
   "source": [
    "klarna_tool = AIPluginTool.from_plugin_url(\"https://www.klarna.com/.well-known/ai-plugin.json\")"
   ]
  },
  {
   "cell_type": "code",
   "execution_count": 95,
   "id": "b0df5255",
   "metadata": {},
   "outputs": [],
   "source": [
    "# Define which tools the agent can use to answer user queries\n",
    "search = SerpAPIWrapper(serpapi_api_key=SERPAPI_API_KEY)\n",
    "tools = [\n",
    "    Tool(\n",
    "        name = \"Search\",\n",
    "        func=search.run,\n",
    "        description=\"useful for when you need to answer questions about current events\"\n",
    "    )\n",
    "]"
   ]
  },
  {
   "cell_type": "code",
   "execution_count": 110,
   "id": "1ab06de3",
   "metadata": {},
   "outputs": [
    {
     "name": "stdout",
     "output_type": "stream",
     "text": [
      "[   Tool(name='Search', description='useful for when you need to answer questions about current events', args_schema=None, return_direct=False, verbose=False, callbacks=None, callback_manager=None, tags=None, metadata=None, handle_tool_error=False, func=<bound method SerpAPIWrapper.run of SerpAPIWrapper(search_engine=<class 'serpapi.google_search.GoogleSearch'>, params={'engine': 'google', 'google_domain': 'google.com', 'gl': 'us', 'hl': 'en'}, serpapi_api_key='f70b083fab9292ba02681ffb67fcb93f30575ff9d0de93478e5c8a0a9d34a67a', aiosession=None)>, coroutine=None),\n",
      "    AIPluginTool(name='KlarnaProducts', description='Call this tool to get the OpenAPI spec (and usage guide) for interacting with the Klarna Shopping API. You should only call this ONCE! What is the Klarna Shopping API useful for? Search and compare prices from thousands of online shops. Only available in the US.', args_schema=<class 'langchain.tools.plugin.AIPluginToolSchema'>, return_direct=False, verbose=False, callbacks=None, callback_manager=None, tags=None, metadata=None, handle_tool_error=False, plugin=AIPlugin(schema_version='v1', name_for_model='KlarnaProducts', name_for_human='Klarna Shopping', description_for_model='Assistant uses the Klarna plugin to get relevant product suggestions for any shopping or product discovery purpose. Assistant will reply with the following 3 paragraphs 1) Search Results 2) Product Comparison of the Search Results 3) Followup Questions. The first paragraph contains a list of the products with their attributes listed clearly and concisely as bullet points under the product, together with a link to the product and an explanation. Links will always be returned and should be shown to the user. The second paragraph compares the results returned in a summary sentence starting with \"In summary\". Assistant comparisons consider only the most important features of the products that will help them fit the users request, and each product mention is brief, short and concise. In the third paragraph assistant always asks helpful follow-up questions and end with a question mark. When assistant is asking a follow-up question, it uses it\\'s product expertise to provide information pertaining to the subject of the user\\'s request that may guide them in their search for the right product.', description_for_human='Search and compare prices from thousands of online shops. Only available in the US.', auth={'type': 'none'}, api=ApiConfig(type='openapi', url='https://www.klarna.com/us/shopping/public/openai/v0/api-docs/', has_user_authentication=False), logo_url='https://www.klarna.com/assets/sites/5/2020/04/27143923/klarna-K-150x150.jpg', contact_email='openai-products@klarna.com', legal_info_url='https://www.klarna.com/us/legal/'), api_spec='Usage Guide: Assistant uses the Klarna plugin to get relevant product suggestions for any shopping or product discovery purpose. Assistant will reply with the following 3 paragraphs 1) Search Results 2) Product Comparison of the Search Results 3) Followup Questions. The first paragraph contains a list of the products with their attributes listed clearly and concisely as bullet points under the product, together with a link to the product and an explanation. Links will always be returned and should be shown to the user. The second paragraph compares the results returned in a summary sentence starting with \"In summary\". Assistant comparisons consider only the most important features of the products that will help them fit the users request, and each product mention is brief, short and concise. In the third paragraph assistant always asks helpful follow-up questions and end with a question mark. When assistant is asking a follow-up question, it uses it\\'s product expertise to provide information pertaining to the subject of the user\\'s request that may guide them in their search for the right product.\\n\\nOpenAPI Spec: {\\'openapi\\': \\'3.0.1\\', \\'info\\': {\\'version\\': \\'v0\\', \\'title\\': \\'Open AI Klarna product Api\\'}, \\'servers\\': [{\\'url\\': \\'https://www.klarna.com/us/shopping\\'}], \\'tags\\': [{\\'name\\': \\'open-ai-product-endpoint\\', \\'description\\': \\'Open AI Product Endpoint. Query for products.\\'}], \\'paths\\': {\\'/public/openai/v0/products\\': {\\'get\\': {\\'tags\\': [\\'open-ai-product-endpoint\\'], \\'summary\\': \\'API for fetching Klarna product information\\', \\'operationId\\': \\'productsUsingGET\\', \\'parameters\\': [{\\'name\\': \\'countryCode\\', \\'in\\': \\'query\\', \\'description\\': \\'ISO 3166 country code with 2 characters based on the user location. Currently, only US, GB, DE, SE and DK are supported.\\', \\'required\\': True, \\'schema\\': {\\'type\\': \\'string\\'}}, {\\'name\\': \\'q\\', \\'in\\': \\'query\\', \\'description\\': \"A precise query that matches one very small category or product that needs to be searched for to find the products the user is looking for. If the user explicitly stated what they want, use that as a query. The query is as specific as possible to the product name or category mentioned by the user in its singular form, and don\\'t contain any clarifiers like latest, newest, cheapest, budget, premium, expensive or similar. The query is always taken from the latest topic, if there is a new topic a new query is started. If the user speaks another language than English, translate their request into English (example: translate fia med knuff to ludo board game)!\", \\'required\\': True, \\'schema\\': {\\'type\\': \\'string\\'}}, {\\'name\\': \\'size\\', \\'in\\': \\'query\\', \\'description\\': \\'number of products returned\\', \\'required\\': False, \\'schema\\': {\\'type\\': \\'integer\\'}}, {\\'name\\': \\'min_price\\', \\'in\\': \\'query\\', \\'description\\': \"(Optional) Minimum price in local currency for the product searched for. Either explicitly stated by the user or implicitly inferred from a combination of the user\\'s request and the kind of product searched for.\", \\'required\\': False, \\'schema\\': {\\'type\\': \\'integer\\'}}, {\\'name\\': \\'max_price\\', \\'in\\': \\'query\\', \\'description\\': \"(Optional) Maximum price in local currency for the product searched for. Either explicitly stated by the user or implicitly inferred from a combination of the user\\'s request and the kind of product searched for.\", \\'required\\': False, \\'schema\\': {\\'type\\': \\'integer\\'}}], \\'responses\\': {\\'200\\': {\\'description\\': \\'Products found\\', \\'content\\': {\\'application/json\\': {\\'schema\\': {\\'$ref\\': \\'#/components/schemas/ProductResponse\\'}}}}, \\'503\\': {\\'description\\': \\'one or more services are unavailable\\'}}, \\'deprecated\\': False}}}, \\'components\\': {\\'schemas\\': {\\'Product\\': {\\'type\\': \\'object\\', \\'properties\\': {\\'attributes\\': {\\'type\\': \\'array\\', \\'items\\': {\\'type\\': \\'string\\'}}, \\'name\\': {\\'type\\': \\'string\\'}, \\'price\\': {\\'type\\': \\'string\\'}, \\'url\\': {\\'type\\': \\'string\\'}}, \\'title\\': \\'Product\\'}, \\'ProductResponse\\': {\\'type\\': \\'object\\', \\'properties\\': {\\'products\\': {\\'type\\': \\'array\\', \\'items\\': {\\'$ref\\': \\'#/components/schemas/Product\\'}}}, \\'title\\': \\'ProductResponse\\'}}}}')]\n"
     ]
    }
   ],
   "source": [
    "tools = [serp_tool] + [klarna_tool] #+  playwright_toolkit.get_tools() \n",
    "pp.pprint(tools)"
   ]
  },
  {
   "cell_type": "code",
   "execution_count": 111,
   "id": "ad3c5386",
   "metadata": {},
   "outputs": [],
   "source": [
    "# Set up the base template\n",
    "template = \"\"\"Complete the objective as best you can. You have access to the following tools:\n",
    "\n",
    "{tools}\n",
    "\n",
    "Use the following format:\n",
    "\n",
    "Question: the input question you must answer\n",
    "Thought: you should always think about what to do\n",
    "Action: the action to take, should be one of [{tool_names} or ending the conversation]\n",
    "Action Input: the input to the action\n",
    "Observation: the result of the action\n",
    "... (this Thought/Action/Action Input/Observation can repeat N times)\n",
    "Thought: I now know the final answer\n",
    "Final Answer: the final answer to the original input question\n",
    "\n",
    "These were previous tasks you completed:\n",
    "\n",
    "\n",
    "\n",
    "Begin!\n",
    "\n",
    "Question: {input}\n",
    "{agent_scratchpad}\"\"\""
   ]
  },
  {
   "cell_type": "code",
   "execution_count": 112,
   "id": "c1f637b0",
   "metadata": {},
   "outputs": [],
   "source": [
    "# Set up a prompt template\n",
    "class CustomPromptTemplate(BaseChatPromptTemplate):\n",
    "    # The template to use\n",
    "    template: str\n",
    "    # The list of tools available\n",
    "    tools: List[Tool]\n",
    "    \n",
    "    def format_messages(self, **kwargs) -> str:\n",
    "        # Get the intermediate steps (AgentAction, Observation tuples)\n",
    "        # Format them in a particular way\n",
    "        intermediate_steps = kwargs.pop(\"intermediate_steps\")\n",
    "        thoughts = \"\"\n",
    "        for action, observation in intermediate_steps:\n",
    "            thoughts += action.log\n",
    "            thoughts += f\"\\nObservation: {observation}\\nThought: \"\n",
    "        # Set the agent_scratchpad variable to that value\n",
    "        kwargs[\"agent_scratchpad\"] = thoughts\n",
    "        # Create a tools variable from the list of tools provided\n",
    "        kwargs[\"tools\"] = \"\\n\".join([f\"{tool.name}: {tool.description}\" for tool in self.tools])\n",
    "        # Create a list of tool names for the tools provided\n",
    "        kwargs[\"tool_names\"] = \", \".join([tool.name for tool in self.tools])\n",
    "        formatted = self.template.format(**kwargs)\n",
    "        return [HumanMessage(content=formatted)]"
   ]
  },
  {
   "cell_type": "code",
   "execution_count": 113,
   "id": "174e64ac",
   "metadata": {},
   "outputs": [
    {
     "ename": "ValidationError",
     "evalue": "1 validation error for CustomPromptTemplate\ntools -> 1\n  Tool.__init__() missing 1 required positional argument: 'func' (type=type_error)",
     "output_type": "error",
     "traceback": [
      "\u001b[0;31m---------------------------------------------------------------------------\u001b[0m",
      "\u001b[0;31mValidationError\u001b[0m                           Traceback (most recent call last)",
      "Cell \u001b[0;32mIn[113], line 1\u001b[0m\n\u001b[0;32m----> 1\u001b[0m prompt \u001b[38;5;241m=\u001b[39m \u001b[43mCustomPromptTemplate\u001b[49m\u001b[43m(\u001b[49m\n\u001b[1;32m      2\u001b[0m \u001b[43m    \u001b[49m\u001b[43mtemplate\u001b[49m\u001b[38;5;241;43m=\u001b[39;49m\u001b[43mtemplate\u001b[49m\u001b[43m,\u001b[49m\n\u001b[1;32m      3\u001b[0m \u001b[43m    \u001b[49m\u001b[43mtools\u001b[49m\u001b[38;5;241;43m=\u001b[39;49m\u001b[43mtools\u001b[49m\u001b[43m,\u001b[49m\n\u001b[1;32m      4\u001b[0m \u001b[43m    \u001b[49m\u001b[38;5;66;43;03m# This omits the `agent_scratchpad`, `tools`, and `tool_names` variables because those are generated dynamically\u001b[39;49;00m\n\u001b[1;32m      5\u001b[0m \u001b[43m    \u001b[49m\u001b[38;5;66;43;03m# This includes the `intermediate_steps` variable because that is needed\u001b[39;49;00m\n\u001b[1;32m      6\u001b[0m \u001b[43m    \u001b[49m\u001b[43minput_variables\u001b[49m\u001b[38;5;241;43m=\u001b[39;49m\u001b[43m[\u001b[49m\u001b[38;5;124;43m\"\u001b[39;49m\u001b[38;5;124;43minput\u001b[39;49m\u001b[38;5;124;43m\"\u001b[39;49m\u001b[43m,\u001b[49m\u001b[43m \u001b[49m\u001b[38;5;124;43m\"\u001b[39;49m\u001b[38;5;124;43mintermediate_steps\u001b[39;49m\u001b[38;5;124;43m\"\u001b[39;49m\u001b[43m]\u001b[49m\n\u001b[1;32m      7\u001b[0m \u001b[43m)\u001b[49m\n",
      "File \u001b[0;32m~/anaconda3/lib/python3.10/site-packages/langchain/load/serializable.py:74\u001b[0m, in \u001b[0;36mSerializable.__init__\u001b[0;34m(self, **kwargs)\u001b[0m\n\u001b[1;32m     73\u001b[0m \u001b[38;5;28;01mdef\u001b[39;00m \u001b[38;5;21m__init__\u001b[39m(\u001b[38;5;28mself\u001b[39m, \u001b[38;5;241m*\u001b[39m\u001b[38;5;241m*\u001b[39mkwargs: Any) \u001b[38;5;241m-\u001b[39m\u001b[38;5;241m>\u001b[39m \u001b[38;5;28;01mNone\u001b[39;00m:\n\u001b[0;32m---> 74\u001b[0m     \u001b[38;5;28;43msuper\u001b[39;49m\u001b[43m(\u001b[49m\u001b[43m)\u001b[49m\u001b[38;5;241;43m.\u001b[39;49m\u001b[38;5;21;43m__init__\u001b[39;49m\u001b[43m(\u001b[49m\u001b[38;5;241;43m*\u001b[39;49m\u001b[38;5;241;43m*\u001b[39;49m\u001b[43mkwargs\u001b[49m\u001b[43m)\u001b[49m\n\u001b[1;32m     75\u001b[0m     \u001b[38;5;28mself\u001b[39m\u001b[38;5;241m.\u001b[39m_lc_kwargs \u001b[38;5;241m=\u001b[39m kwargs\n",
      "File \u001b[0;32m~/anaconda3/lib/python3.10/site-packages/pydantic/main.py:341\u001b[0m, in \u001b[0;36mpydantic.main.BaseModel.__init__\u001b[0;34m()\u001b[0m\n",
      "\u001b[0;31mValidationError\u001b[0m: 1 validation error for CustomPromptTemplate\ntools -> 1\n  Tool.__init__() missing 1 required positional argument: 'func' (type=type_error)"
     ]
    }
   ],
   "source": [
    "prompt = CustomPromptTemplate(\n",
    "    template=template,\n",
    "    tools=tools,\n",
    "    # This omits the `agent_scratchpad`, `tools`, and `tool_names` variables because those are generated dynamically\n",
    "    # This includes the `intermediate_steps` variable because that is needed\n",
    "    input_variables=[\"input\", \"intermediate_steps\"]\n",
    ")"
   ]
  },
  {
   "cell_type": "code",
   "execution_count": 114,
   "id": "36abf167",
   "metadata": {},
   "outputs": [],
   "source": [
    "class CustomOutputParser(AgentOutputParser):\n",
    "    \n",
    "    def parse(self, llm_output: str) -> Union[AgentAction, AgentFinish]:\n",
    "        # Check if agent should finish\n",
    "        if \"Final Answer:\" in llm_output:\n",
    "            return AgentFinish(\n",
    "                # Return values is generally always a dictionary with a single `output` key\n",
    "                # It is not recommended to try anything else at the moment :)\n",
    "                return_values={\"output\": llm_output.split(\"Final Answer:\")[-1].strip()},\n",
    "                log=llm_output,\n",
    "            )\n",
    "        # Parse out the action and action input\n",
    "        regex = r\"Action\\s*\\d*\\s*:(.*?)\\nAction\\s*\\d*\\s*Input\\s*\\d*\\s*:[\\s]*(.*)\"\n",
    "        match = re.search(regex, llm_output, re.DOTALL)\n",
    "        if not match:\n",
    "            raise ValueError(f\"Could not parse LLM output: `{llm_output}`\")\n",
    "        action = match.group(1).strip()\n",
    "        action_input = match.group(2)\n",
    "        # Return the action and action input\n",
    "        return AgentAction(tool=action, tool_input=action_input.strip(\" \").strip('\"'), log=llm_output)"
   ]
  },
  {
   "cell_type": "code",
   "execution_count": 115,
   "id": "b4aae7c1",
   "metadata": {},
   "outputs": [],
   "source": [
    "output_parser = CustomOutputParser()"
   ]
  },
  {
   "cell_type": "code",
   "execution_count": 116,
   "id": "0340e884",
   "metadata": {},
   "outputs": [],
   "source": [
    "llm = ChatOpenAI(openai_api_key=os.environ.get(\"OPENAI_API_KEY\"), temperature=0)"
   ]
  },
  {
   "cell_type": "code",
   "execution_count": 117,
   "id": "258342ed",
   "metadata": {},
   "outputs": [],
   "source": [
    "# LLM chain consisting of the LLM and a prompt\n",
    "llm_chain = LLMChain(llm=llm, prompt=prompt)"
   ]
  },
  {
   "cell_type": "code",
   "execution_count": 118,
   "id": "25af27e0",
   "metadata": {},
   "outputs": [],
   "source": [
    "tool_names = [tool.name for tool in tools]\n",
    "agent = LLMSingleActionAgent(\n",
    "    llm_chain=llm_chain, \n",
    "    output_parser=output_parser,\n",
    "    stop=[\"\\nObservation:\"], \n",
    "    allowed_tools=tool_names\n",
    ")"
   ]
  },
  {
   "cell_type": "code",
   "execution_count": null,
   "id": "1c4563f9",
   "metadata": {},
   "outputs": [],
   "source": []
  },
  {
   "cell_type": "code",
   "execution_count": 43,
   "id": "15a99d24",
   "metadata": {},
   "outputs": [],
   "source": [
    "tools += [klarna_tool]\n",
    "tools += playwright_toolkit.get_tools()\n",
    "agent_executor = AgentExecutor.from_agent_and_tools(agent=agent, tools=tools, verbose=True)\n",
    "\n"
   ]
  },
  {
   "cell_type": "code",
   "execution_count": 44,
   "id": "62c68681",
   "metadata": {},
   "outputs": [
    {
     "name": "stdout",
     "output_type": "stream",
     "text": [
      "[   ClickTool(name='click_element', description='Click on an element with the given CSS selector', args_schema=<class 'langchain.tools.playwright.click.ClickToolInput'>, return_direct=False, verbose=False, callbacks=None, callback_manager=None, tags=None, metadata=None, handle_tool_error=False, sync_browser=None, async_browser=<Browser type=<BrowserType name=chromium executable_path=/Users/anon/Library/Caches/ms-playwright/chromium-1067/chrome-mac/Chromium.app/Contents/MacOS/Chromium> version=115.0.5790.24>, visible_only=True, playwright_strict=False, playwright_timeout=1000),\n",
      "    NavigateTool(name='navigate_browser', description='Navigate a browser to the specified URL', args_schema=<class 'langchain.tools.playwright.navigate.NavigateToolInput'>, return_direct=False, verbose=False, callbacks=None, callback_manager=None, tags=None, metadata=None, handle_tool_error=False, sync_browser=None, async_browser=<Browser type=<BrowserType name=chromium executable_path=/Users/anon/Library/Caches/ms-playwright/chromium-1067/chrome-mac/Chromium.app/Contents/MacOS/Chromium> version=115.0.5790.24>),\n",
      "    NavigateBackTool(name='previous_webpage', description='Navigate back to the previous page in the browser history', args_schema=<class 'pydantic.main.BaseModel'>, return_direct=False, verbose=False, callbacks=None, callback_manager=None, tags=None, metadata=None, handle_tool_error=False, sync_browser=None, async_browser=<Browser type=<BrowserType name=chromium executable_path=/Users/anon/Library/Caches/ms-playwright/chromium-1067/chrome-mac/Chromium.app/Contents/MacOS/Chromium> version=115.0.5790.24>),\n",
      "    ExtractTextTool(name='extract_text', description='Extract all the text on the current webpage', args_schema=<class 'pydantic.main.BaseModel'>, return_direct=False, verbose=False, callbacks=None, callback_manager=None, tags=None, metadata=None, handle_tool_error=False, sync_browser=None, async_browser=<Browser type=<BrowserType name=chromium executable_path=/Users/anon/Library/Caches/ms-playwright/chromium-1067/chrome-mac/Chromium.app/Contents/MacOS/Chromium> version=115.0.5790.24>),\n",
      "    ExtractHyperlinksTool(name='extract_hyperlinks', description='Extract all hyperlinks on the current webpage', args_schema=<class 'langchain.tools.playwright.extract_hyperlinks.ExtractHyperlinksToolInput'>, return_direct=False, verbose=False, callbacks=None, callback_manager=None, tags=None, metadata=None, handle_tool_error=False, sync_browser=None, async_browser=<Browser type=<BrowserType name=chromium executable_path=/Users/anon/Library/Caches/ms-playwright/chromium-1067/chrome-mac/Chromium.app/Contents/MacOS/Chromium> version=115.0.5790.24>),\n",
      "    GetElementsTool(name='get_elements', description='Retrieve elements in the current web page matching the given CSS selector', args_schema=<class 'langchain.tools.playwright.get_elements.GetElementsToolInput'>, return_direct=False, verbose=False, callbacks=None, callback_manager=None, tags=None, metadata=None, handle_tool_error=False, sync_browser=None, async_browser=<Browser type=<BrowserType name=chromium executable_path=/Users/anon/Library/Caches/ms-playwright/chromium-1067/chrome-mac/Chromium.app/Contents/MacOS/Chromium> version=115.0.5790.24>),\n",
      "    CurrentWebPageTool(name='current_webpage', description='Returns the URL of the current page', args_schema=<class 'pydantic.main.BaseModel'>, return_direct=False, verbose=False, callbacks=None, callback_manager=None, tags=None, metadata=None, handle_tool_error=False, sync_browser=None, async_browser=<Browser type=<BrowserType name=chromium executable_path=/Users/anon/Library/Caches/ms-playwright/chromium-1067/chrome-mac/Chromium.app/Contents/MacOS/Chromium> version=115.0.5790.24>)]\n"
     ]
    }
   ],
   "source": [
    "pp.pprint(playwright_toolkit.get_tools())\n",
    "#pp.pprint(tools+[klarna_tool] + )"
   ]
  },
  {
   "cell_type": "code",
   "execution_count": 80,
   "id": "dc28a0e6",
   "metadata": {},
   "outputs": [
    {
     "name": "stderr",
     "output_type": "stream",
     "text": [
      "Retrying langchain.chat_models.openai.ChatOpenAI.completion_with_retry.<locals>._completion_with_retry in 1.0 seconds as it raised APIConnectionError: Error communicating with OpenAI: ('Connection aborted.', RemoteDisconnected('Remote end closed connection without response')).\n"
     ]
    },
    {
     "name": "stdout",
     "output_type": "stream",
     "text": [
      "\n",
      "\n",
      "\u001b[1m> Entering new  chain...\u001b[0m\n",
      "\u001b[32;1m\u001b[1;3mThought: I should search for information on the early history of artificial intelligence, major breakthroughs, current applications, and predictions for the future.\n",
      "Action: Search\n",
      "Action Input: \"evolution of artificial intelligence\"\u001b[0m\n",
      "\n",
      "Observation:\u001b[36;1m\u001b[1;3mFrom 1957 to 1974, AI flourished. Computers could store more information and became faster, cheaper, and more accessible. Machine learning ...\u001b[0m\n",
      "\u001b[32;1m\u001b[1;3mI have found some information on the early history of artificial intelligence, but I still need to find information on major breakthroughs, current applications, and predictions for the future.\n",
      "Action: Search\n",
      "Action Input: \"major breakthroughs in artificial intelligence\"\u001b[0m\n",
      "\n",
      "Observation:\u001b[36;1m\u001b[1;3mThis article examines the most recent advancements in AI and how they may affect various economic sectors.\u001b[0m\n",
      "\u001b[32;1m\u001b[1;3mI have found information on major breakthroughs in artificial intelligence, but I still need to find information on current applications and predictions for the future.\n",
      "Action: Search\n",
      "Action Input: \"current applications of artificial intelligence\"\u001b[0m\n",
      "\n",
      "Observation:\u001b[36;1m\u001b[1;3mThis is done using computer vision, robotics, and machine learning applications, AI can analyze where weeds are growing. AI bots can help to ...\u001b[0m\n",
      "\u001b[32;1m\u001b[1;3mI have found information on current applications of artificial intelligence, but I still need to find information on predictions for the future.\n",
      "Action: Search\n",
      "Action Input: \"predictions for the future of artificial intelligence\"\u001b[0m\n",
      "\n",
      "Observation:\u001b[36;1m\u001b[1;3mAI-powered robots are already used in manufacturing, building, and logistics, but the next step is to take on more human-like tasks in the future. Experts predict these machines will perform general tasks like lifting heavy objects, driving cars, and helping with household chores.\u001b[0m\n",
      "\u001b[32;1m\u001b[1;3mI now know the final answer.\n",
      "Final Answer: The early history of artificial intelligence dates back to the late 1950s and early 1960s when AI research flourished. Major breakthroughs in AI include advancements in machine learning, computer vision, and robotics. Current applications of AI include analyzing data, automating tasks, and improving efficiency in various industries. Predictions for the future of AI include the development of more human-like robots that can perform general tasks and assist with everyday activities.\u001b[0m\n",
      "\n",
      "\u001b[1m> Finished chain.\u001b[0m\n"
     ]
    },
    {
     "data": {
      "text/plain": [
       "'The early history of artificial intelligence dates back to the late 1950s and early 1960s when AI research flourished. Major breakthroughs in AI include advancements in machine learning, computer vision, and robotics. Current applications of AI include analyzing data, automating tasks, and improving efficiency in various industries. Predictions for the future of AI include the development of more human-like robots that can perform general tasks and assist with everyday activities.'"
      ]
     },
     "execution_count": 80,
     "metadata": {},
     "output_type": "execute_result"
    }
   ],
   "source": [
    "agent_executor.run(\"I want to learn about the evolution of artificial intelligence. Can you find information on its early history, major breakthroughs, current applications, and predictions for the future?\")"
   ]
  },
  {
   "cell_type": "code",
   "execution_count": null,
   "id": "a8880d80",
   "metadata": {},
   "outputs": [],
   "source": []
  },
  {
   "cell_type": "code",
   "execution_count": null,
   "id": "0241911d",
   "metadata": {},
   "outputs": [],
   "source": []
  }
 ],
 "metadata": {
  "kernelspec": {
   "display_name": "Python 3 (ipykernel)",
   "language": "python",
   "name": "python3"
  },
  "language_info": {
   "codemirror_mode": {
    "name": "ipython",
    "version": 3
   },
   "file_extension": ".py",
   "mimetype": "text/x-python",
   "name": "python",
   "nbconvert_exporter": "python",
   "pygments_lexer": "ipython3",
   "version": "3.10.9"
  }
 },
 "nbformat": 4,
 "nbformat_minor": 5
}
