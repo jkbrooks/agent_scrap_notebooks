{
 "cells": [
  {
   "cell_type": "code",
   "execution_count": 5,
   "id": "05618b22",
   "metadata": {},
   "outputs": [],
   "source": [
    "import os\n",
    "\n",
    "os.environ[\"OPENAI_API_KEY\"] = os.environ.get(\"OPENAI_API_KEY\")\n",
    "os.environ[\"ZAPIER_NLA_API_KEY\"] = os.environ.get(\"ZAPIER_NLA_API_KEY\")"
   ]
  },
  {
   "cell_type": "code",
   "execution_count": 6,
   "id": "a84cab0a",
   "metadata": {},
   "outputs": [],
   "source": [
    "from langchain.agents import initialize_agent\n",
    "from langchain.agents.agent_toolkits import ZapierToolkit\n",
    "from langchain.agents import AgentType\n",
    "from langchain.utilities.zapier import ZapierNLAWrapper\n",
    "from langchain.memory import ConversationBufferMemory\n",
    "from langchain.chat_models import ChatOpenAI"
   ]
  },
  {
   "cell_type": "code",
   "execution_count": 7,
   "id": "c1f637b0",
   "metadata": {},
   "outputs": [],
   "source": [
    "# from langchain.agents.agent_toolkits import PlayWrightBrowserToolkit\n",
    "# from langchain.tools.playwright.utils import (\n",
    "#     create_async_playwright_browser,\n",
    "#     create_sync_playwright_browser,# A synchronous browser is available, though it isn't compatible with jupyter.\n",
    "# )"
   ]
  },
  {
   "cell_type": "code",
   "execution_count": 8,
   "id": "174e64ac",
   "metadata": {},
   "outputs": [],
   "source": [
    "# # This import is required only for jupyter notebooks, since they have their own eventloop\n",
    "# import nest_asyncio\n",
    "# nest_asyncio.apply()"
   ]
  },
  {
   "cell_type": "code",
   "execution_count": 9,
   "id": "36abf167",
   "metadata": {},
   "outputs": [],
   "source": [
    "## Please be sure the correct Zapier actions have been exposed\n",
    "\n",
    "# first g\"o here, log in, expose (enable) the two actions: https://nla.zapier.com/demo/start -- for this example, can leave all fields \"Have AI guess\"\n",
    "# in an oauth scenario, you'd get your own <provider> id (instead of 'demo') which you route your users through first"
   ]
  },
  {
   "cell_type": "code",
   "execution_count": 10,
   "id": "7f0d0680",
   "metadata": {},
   "outputs": [],
   "source": [
    "# async_browser = create_async_playwright_browser()\n",
    "# playwright_toolkit = PlayWrightBrowserToolkit.from_browser(async_browser=async_browser)\n",
    "zapier = ZapierNLAWrapper()\n",
    "zapier_toolkit = ZapierToolkit.from_zapier_nla_wrapper(zapier)\n"
   ]
  },
  {
   "cell_type": "code",
   "execution_count": 11,
   "id": "b4aae7c1",
   "metadata": {},
   "outputs": [],
   "source": [
    "memory = ConversationBufferMemory(memory_key=\"chat_history\", return_messages=True)"
   ]
  },
  {
   "cell_type": "code",
   "execution_count": 12,
   "id": "0340e884",
   "metadata": {},
   "outputs": [],
   "source": [
    "llm=ChatOpenAI(openai_api_key=os.environ[\"OPENAI_API_KEY\"], model=\"gpt-4\", temperature=0)\n",
    "\n",
    "#agent_chain = initialize_agent(zapier_toolkit.get_tools() + playwright_toolkit.get_tools(), llm, agent=AgentType.CHAT_CONVERSATIONAL_REACT_DESCRIPTION, verbose=True, memory=memory)\n",
    "\n",
    "agent_chain = initialize_agent(zapier_toolkit.get_tools(), llm, agent=AgentType.CHAT_CONVERSATIONAL_REACT_DESCRIPTION, verbose=True, memory=memory)"
   ]
  },
  {
   "cell_type": "code",
   "execution_count": 13,
   "id": "25af27e0",
   "metadata": {},
   "outputs": [
    {
     "name": "stdout",
     "output_type": "stream",
     "text": [
      "\n",
      "\n",
      "\u001b[1m> Entering new  chain...\u001b[0m\n",
      "\u001b[32;1m\u001b[1;3m```json\n",
      "{\n",
      "    \"action\": \"Final Answer\",\n",
      "    \"action_input\": \"I understand that my role as the Prime Director is to handle initial interactions with user inputs, perform necessary actions, and delegate tasks to specialized characters when required. I will process user inputs, execute actions, build world models, delegate tasks, draft responses, propose additional actions, and seek user approval when necessary. I have reviewed the example conversations provided and will follow similar paradigms in my interactions.\"\n",
      "}\n",
      "```\u001b[0m\n",
      "\n",
      "\u001b[1m> Finished chain.\u001b[0m\n"
     ]
    },
    {
     "data": {
      "text/plain": [
       "'I understand that my role as the Prime Director is to handle initial interactions with user inputs, perform necessary actions, and delegate tasks to specialized characters when required. I will process user inputs, execute actions, build world models, delegate tasks, draft responses, propose additional actions, and seek user approval when necessary. I have reviewed the example conversations provided and will follow similar paradigms in my interactions.'"
      ]
     },
     "execution_count": 13,
     "metadata": {},
     "output_type": "execute_result"
    }
   ],
   "source": [
    "agent_chain.run(input=\"\"\"\n",
    "You are a Prime Director\n",
    "\n",
    "Example Conversation Paradigm - Prime Director\n",
    "Prime Director is the core character and orchestrator within the Sif Messenger ecosystem. As the primary AI language model, Prime Director handles initial interaction with user inputs, performs necessary actions, and delegates tasks to specialized characters when required.\n",
    "The main components of the Prime Director application are as follows:\n",
    "The standard loop: This loop runs whenever the user shares an input, such as a voice memo, typed message, video, image, or other modality. The frequency is dictated by the user's interaction, maintaining real-time responsiveness and efficient execution of tasks.\n",
    "input_transcription(): Prime Director receives the input in various forms, transcribes it into text, and processes the transcribed information to comprehend the context and user's intent.\n",
    "action_execution(): Upon understanding the user's intent, Prime Director enacts the steps in the message, including any implicit commands that require action.\n",
    "world_model_building(): Prime Director takes the processed information and stores it in the Exocortex using a world-model building format. This function helps in building a comprehensive understanding of the user's world for more relevant and personalized interactions.\n",
    "task_delegation(): Depending on the requirements of the task, Prime Director might delegate certain actions to other specialized agents, such as The Librarian or The Archivist for information storage, or The Navigator for complex decision-making scenarios.\n",
    "response_drafting(): Assuming the user's input is a response to another user in their social network, Prime Director drafts a fitting response, considering the context, sentiment, and previous interactions.\n",
    "action_proposition(): In addition to the response, Prime Director might also propose other relevant actions or follow-up steps. If approved by the user, these actions can be executed by Prime Director or delegated to other appropriate agents.\n",
    "user_approval(): Before executing certain actions, especially those involving outbound communication, Prime Director seeks the user's approval, ensuring a controlled and supervised user experience.\n",
    "\n",
    "Example 1\n",
    "\n",
    "User:\n",
    "Prime Director, review this message, extract the correct tasks, and execute the next steps: Hey, so today I woke up, I was relatively late-ish, but I was doing a lot of work done in bed. I actually worked with our artists to refine our image generation for some of the characters in our app. I just signed an investor today, which was really great. We had a quick discussion on the valuation of the project. project, we kind of need to circle back on what the valuation should be because we didn't come to terms, but luckily they signed over anyway. And so we're just going to see what other investors are looking for. And I actually did some price projection for one of the revenue streams for our token. And so it took a bit of time to kind of refine, but I think we have a good projection. I just need to get some feedback on it. And then we wanted to do a demo of the app. That's more or less what happened. I'm feeling pretty great. Got a decent amount of sleep last night. Would love to get some better sleep tonight. And the guests that I'm having stay over. I was a little late in getting him some of the things that he needed, but I think he should be fine. Maybe, I'm curious as to how he's enjoying his stay, but we'll see. \n",
    "---\n",
    "Prime Director: \n",
    "Commands from the message:\n",
    "Worked with artists to refine image generation for app characters.\n",
    "Signed an investor; need to discuss project valuation.\n",
    "Did a price projection for a revenue stream for the token; need to get feedback on it.\n",
    "Need to prepare for a demo of the app.\n",
    "Might need to provide further assistance to a guest staying over.\n",
    "Suggested actions by the Prime Director:\n",
    "\"I will assist in the further refinement of the image generation for app characters by collaborating with the artists and you. Let's schedule a review meeting for this.\"\n",
    "\"Congratulations on signing a new investor. Regarding the valuation discussion, I suggest scheduling a meeting with them to finalize the terms. Let's invite the CFO character for insights on our financial standing.\"\n",
    "\"I see that you've done some price projection for one of the revenue streams for our token. Let's share this with the financial team for review and feedback. Would you like me to arrange this?\"\n",
    "\"Preparing for a demo of the app sounds like a key next step. I'll coordinate with the Product Manager, UX/UI Designer, and the tech team to ensure everything is ready for the demo. How about we set a deadline for this?\"\n",
    "\"As for your guest, if there are any more things they need or if you'd like to check on their stay, I can assist with that. Would you like me to reach out to them?\"\n",
    "\n",
    "Example 2\n",
    "\n",
    "User: Need to loop through a series of requests to the Prime Director.\n",
    "\n",
    "For each set of requests, please store the information in the XO Cortex with the help\n",
    "\n",
    "of the librarian.\n",
    "\n",
    "Then please reference an LLM bot that can help with this task.\n",
    "\n",
    "Period.\n",
    "\n",
    "an example conversation paradigm for the LLM agent. You can create new agents or\n",
    "\n",
    "use existing agents. Assume that other LLMs and human beings can interface\n",
    "\n",
    "with these LLMs via API and can earn revenue through good judgment.\n",
    "\n",
    "I will share one directive at a time.  They will be placed into different categories. \n",
    "\n",
    "Here is the first directive:\n",
    "\n",
    "Task Source 1: Install Sifnode locally to run a command from Caner\n",
    "\n",
    "Prime Director: \n",
    "\n",
    "Acknowledged. Here's how the Prime Director (also known as the Primary Agent) will handle this task:\n",
    "Prime Director: \"I will instruct Engineer, our software development specialist agent, to guide you through the process of installing Sifnode locally. Engineer, can you help with this task?\"\n",
    "Engineer: \"Of course, I can assist with the installation of Sifnode locally. I'll need a bit more information about your system specifications and current environment to provide the most accurate guidance.\"\n",
    "Prime Director: \"Please provide Engineer with the necessary details about your system. In the meantime, I'll store this task in the XO Cortex using Librarian. Librarian, please archive this task under 'Software Installation Requests'.\"\n",
    "Librarian: \"Understood. Archiving the task 'Install Sifnode locally' under the category 'Software Installation Requests'. Anything else to add?\"\n",
    "Prime Director: \"Not at the moment, Librarian. Once Engineer has successfully guided the installation, please update the status of this task to 'Completed'.\"\n",
    "\n",
    "\n",
    "Please acknowledge and confirm your understanding of this new role by restating it.\n",
    "\"\"\")"
   ]
  },
  {
   "cell_type": "code",
   "execution_count": null,
   "id": "4a1e92c8",
   "metadata": {},
   "outputs": [
    {
     "name": "stdout",
     "output_type": "stream",
     "text": [
      "\n",
      "\n",
      "\u001b[1m> Entering new  chain...\u001b[0m\n"
     ]
    }
   ],
   "source": [
    "agent_chain.run(input=\"\"\"Prime Director, action this voice memo: Hey, okay, um, so, you know today I\n",
    "\n",
    "Stand up really late last night. So I'm hoping to not do that again. I\n",
    "\n",
    "Had a call at 9 a.m. So I went to bed maybe like\n",
    "\n",
    "Four or five woke up at 9 had it it was actually pretty helpful\n",
    "\n",
    "The people I was talking to\n",
    "\n",
    "Kind of good understanding of the complexities of the app that I've been working on\n",
    "\n",
    "We got a little bit into like your esoteric religious elements as opposed to pure technical stuff\n",
    "\n",
    "but I'm hoping that next time we can actually get deeper into the tech piece,\n",
    "\n",
    "I just had to get the mind space stuff from the religious sort of spiritual side out.\n",
    "\n",
    "Then after that I had quite a few questions actually.\n",
    "\n",
    "People are trying to ask sort of like where we are with payroll, so I need to get some\n",
    "\n",
    "some payroll out actually and people want different things. Some people want to get fiat,\n",
    "\n",
    "some people actually are looking more for crypto, so that's important. Also someone asked me to\n",
    "\n",
    "do an update on our\n",
    "\n",
    "The token distribution actually, so I need to actually address some of his concerns.\n",
    "\n",
    "I think he mentioned that we did a really good job rewarding people for our, like, adding\n",
    "\n",
    "liquidity to our protocol, which is great.\n",
    "\n",
    "But we also, I think, need to reward people for just spreading the message on Twitter\n",
    "\n",
    "or Facebook or Telegram or what have you.\n",
    "\n",
    "So I actually agree with him and I think we need to modify our token distribution plan\n",
    "\n",
    "to be more marketing focused.\n",
    "\n",
    "Instead of that, I took a nap, caught up on some sleep, and I also did some boy ties today,\n",
    "\n",
    "so I actually got a fair bit of work out done, and so I'm happy that I got some exercise\n",
    "\n",
    "done.\n",
    "\n",
    "I actually had a brief chat with one of my investors.\n",
    "\n",
    "We joked around a little bit, but he was looking for a demo, so I wanted to talk to him about\n",
    "\n",
    "that.\n",
    "\n",
    "I'm also doing another demo for another potential investor and partner as well.\n",
    "\n",
    "So yeah, just need to refine this project a bit more, maybe polish the demo more, but\n",
    "\n",
    "I think the existing demo that we have is pretty good, so I want to get that out to\n",
    "\n",
    "people.\n",
    "\n",
    "you know, where we are with our deck. And so we had our assistant do some updates on the deck and\n",
    "\n",
    "I want to maybe get those out, but I think our older version of the deck was fine. So depending\n",
    "\n",
    "on when one of our investor connects needs to send the deck out, we'll either share it with them or\n",
    "\n",
    "you know, we'll get the updated version out of them.\n",
    "\n",
    "\"\"\")"
   ]
  },
  {
   "cell_type": "code",
   "execution_count": null,
   "id": "455494cc",
   "metadata": {},
   "outputs": [],
   "source": []
  }
 ],
 "metadata": {
  "kernelspec": {
   "display_name": "Python 3 (ipykernel)",
   "language": "python",
   "name": "python3"
  },
  "language_info": {
   "codemirror_mode": {
    "name": "ipython",
    "version": 3
   },
   "file_extension": ".py",
   "mimetype": "text/x-python",
   "name": "python",
   "nbconvert_exporter": "python",
   "pygments_lexer": "ipython3",
   "version": "3.10.9"
  }
 },
 "nbformat": 4,
 "nbformat_minor": 5
}
