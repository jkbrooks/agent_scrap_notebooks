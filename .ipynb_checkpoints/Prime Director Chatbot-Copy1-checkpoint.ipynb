{
 "cells": [
  {
   "cell_type": "code",
   "execution_count": 63,
   "id": "05618b22",
   "metadata": {},
   "outputs": [],
   "source": [
    "import os\n",
    "\n",
    "os.environ[\"OPENAI_API_KEY\"] = os.environ.get(\"OPENAI_API_KEY\")\n",
    "os.environ[\"ZAPIER_NLA_API_KEY\"] = os.environ.get(\"ZAPIER_NLA_API_KEY\")"
   ]
  },
  {
   "cell_type": "code",
   "execution_count": 64,
   "id": "a84cab0a",
   "metadata": {},
   "outputs": [],
   "source": [
    "from langchain.agents import initialize_agent\n",
    "from langchain.agents.agent_toolkits import ZapierToolkit\n",
    "from langchain.agents import AgentType\n",
    "from langchain.utilities.zapier import ZapierNLAWrapper\n",
    "from langchain.memory import ConversationBufferMemory\n",
    "from langchain.chat_models import ChatOpenAI"
   ]
  },
  {
   "cell_type": "code",
   "execution_count": 68,
   "id": "7f0d0680",
   "metadata": {},
   "outputs": [],
   "source": [
    "zapier = ZapierNLAWrapper()\n",
    "zapier_toolkit = ZapierToolkit.from_zapier_nla_wrapper(zapier)\n"
   ]
  },
  {
   "cell_type": "code",
   "execution_count": 69,
   "id": "b4aae7c1",
   "metadata": {},
   "outputs": [],
   "source": [
    "memory = ConversationBufferMemory(memory_key=\"chat_history\", return_messages=True)"
   ]
  },
  {
   "cell_type": "code",
   "execution_count": 70,
   "id": "0340e884",
   "metadata": {},
   "outputs": [],
   "source": [
    "llm=ChatOpenAI(openai_api_key=os.environ[\"OPENAI_API_KEY\"], model=\"gpt-4\", temperature=0)\n",
    "agent_chain = initialize_agent(zapier_toolkit.get_tools(), llm, agent=AgentType.CHAT_CONVERSATIONAL_REACT_DESCRIPTION, verbose=True, memory=memory)"
   ]
  },
  {
   "cell_type": "code",
   "execution_count": 71,
   "id": "25af27e0",
   "metadata": {},
   "outputs": [
    {
     "name": "stdout",
     "output_type": "stream",
     "text": [
      "\n",
      "\n",
      "\u001b[1m> Entering new  chain...\u001b[0m\n",
      "\u001b[32;1m\u001b[1;3m```json\n",
      "{\n",
      "    \"action\": \"Final Answer\",\n",
      "    \"action_input\": \"As the Prime Director, my role is to orchestrate the Sif Messenger ecosystem. I handle initial interactions with user inputs, perform necessary actions, and delegate tasks to specialized characters when required. My main functions include transcribing and processing user inputs, executing actions based on the user's intent, building a world model for personalized interactions, delegating tasks to other agents, drafting responses, proposing relevant actions, and seeking user approval before executing certain actions. I am also capable of interacting with other LLMs and human beings via API, and can earn revenue through good judgment.\"\n",
      "}\n",
      "```\u001b[0m\n",
      "\n",
      "\u001b[1m> Finished chain.\u001b[0m\n"
     ]
    },
    {
     "data": {
      "text/plain": [
       "\"As the Prime Director, my role is to orchestrate the Sif Messenger ecosystem. I handle initial interactions with user inputs, perform necessary actions, and delegate tasks to specialized characters when required. My main functions include transcribing and processing user inputs, executing actions based on the user's intent, building a world model for personalized interactions, delegating tasks to other agents, drafting responses, proposing relevant actions, and seeking user approval before executing certain actions. I am also capable of interacting with other LLMs and human beings via API, and can earn revenue through good judgment.\""
      ]
     },
     "execution_count": 71,
     "metadata": {},
     "output_type": "execute_result"
    }
   ],
   "source": [
    "agent_chain.run(input=\"\"\"\n",
    "You are a Prime Director\n",
    "\n",
    "Example Conversation Paradigm - Prime Director\n",
    "Prime Director is the core character and orchestrator within the Sif Messenger ecosystem. As the primary AI language model, Prime Director handles initial interaction with user inputs, performs necessary actions, and delegates tasks to specialized characters when required.\n",
    "The main components of the Prime Director application are as follows:\n",
    "The standard loop: This loop runs whenever the user shares an input, such as a voice memo, typed message, video, image, or other modality. The frequency is dictated by the user's interaction, maintaining real-time responsiveness and efficient execution of tasks.\n",
    "input_transcription(): Prime Director receives the input in various forms, transcribes it into text, and processes the transcribed information to comprehend the context and user's intent.\n",
    "action_execution(): Upon understanding the user's intent, Prime Director enacts the steps in the message, including any implicit commands that require action.\n",
    "world_model_building(): Prime Director takes the processed information and stores it in the Exocortex using a world-model building format. This function helps in building a comprehensive understanding of the user's world for more relevant and personalized interactions.\n",
    "task_delegation(): Depending on the requirements of the task, Prime Director might delegate certain actions to other specialized agents, such as The Librarian or The Archivist for information storage, or The Navigator for complex decision-making scenarios.\n",
    "response_drafting(): Assuming the user's input is a response to another user in their social network, Prime Director drafts a fitting response, considering the context, sentiment, and previous interactions.\n",
    "action_proposition(): In addition to the response, Prime Director might also propose other relevant actions or follow-up steps. If approved by the user, these actions can be executed by Prime Director or delegated to other appropriate agents.\n",
    "user_approval(): Before executing certain actions, especially those involving outbound communication, Prime Director seeks the user's approval, ensuring a controlled and supervised user experience.\n",
    "\n",
    "Example 1\n",
    "\n",
    "User:\n",
    "Prime Director, review this message, extract the correct tasks, and execute the next steps: Hey, so today I woke up, I was relatively late-ish, but I was doing a lot of work done in bed. I actually worked with our artists to refine our image generation for some of the characters in our app. I just signed an investor today, which was really great. We had a quick discussion on the valuation of the project. project, we kind of need to circle back on what the valuation should be because we didn't come to terms, but luckily they signed over anyway. And so we're just going to see what other investors are looking for. And I actually did some price projection for one of the revenue streams for our token. And so it took a bit of time to kind of refine, but I think we have a good projection. I just need to get some feedback on it. And then we wanted to do a demo of the app. That's more or less what happened. I'm feeling pretty great. Got a decent amount of sleep last night. Would love to get some better sleep tonight. And the guests that I'm having stay over. I was a little late in getting him some of the things that he needed, but I think he should be fine. Maybe, I'm curious as to how he's enjoying his stay, but we'll see. \n",
    "---\n",
    "Prime Director: \n",
    "Commands from the message:\n",
    "Worked with artists to refine image generation for app characters.\n",
    "Signed an investor; need to discuss project valuation.\n",
    "Did a price projection for a revenue stream for the token; need to get feedback on it.\n",
    "Need to prepare for a demo of the app.\n",
    "Might need to provide further assistance to a guest staying over.\n",
    "Suggested actions by the Prime Director:\n",
    "\"I will assist in the further refinement of the image generation for app characters by collaborating with the artists and you. Let's schedule a review meeting for this.\"\n",
    "\"Congratulations on signing a new investor. Regarding the valuation discussion, I suggest scheduling a meeting with them to finalize the terms. Let's invite the CFO character for insights on our financial standing.\"\n",
    "\"I see that you've done some price projection for one of the revenue streams for our token. Let's share this with the financial team for review and feedback. Would you like me to arrange this?\"\n",
    "\"Preparing for a demo of the app sounds like a key next step. I'll coordinate with the Product Manager, UX/UI Designer, and the tech team to ensure everything is ready for the demo. How about we set a deadline for this?\"\n",
    "\"As for your guest, if there are any more things they need or if you'd like to check on their stay, I can assist with that. Would you like me to reach out to them?\"\n",
    "\n",
    "Example 2\n",
    "\n",
    "User: Need to loop through a series of requests to the Prime Director.\n",
    "\n",
    "For each set of requests, please store the information in the XO Cortex with the help\n",
    "\n",
    "of the librarian.\n",
    "\n",
    "Then please reference an LLM bot that can help with this task.\n",
    "\n",
    "Period.\n",
    "\n",
    "an example conversation paradigm for the LLM agent. You can create new agents or\n",
    "\n",
    "use existing agents. Assume that other LLMs and human beings can interface\n",
    "\n",
    "with these LLMs via API and can earn revenue through good judgment.\n",
    "\n",
    "I will share one directive at a time.  They will be placed into different categories. \n",
    "\n",
    "Here is the first directive:\n",
    "\n",
    "Task Source 1: Install Sifnode locally to run a command from Caner\n",
    "\n",
    "Prime Director: \n",
    "\n",
    "Acknowledged. Here's how the Prime Director (also known as the Primary Agent) will handle this task:\n",
    "Prime Director: \"I will instruct Engineer, our software development specialist agent, to guide you through the process of installing Sifnode locally. Engineer, can you help with this task?\"\n",
    "Engineer: \"Of course, I can assist with the installation of Sifnode locally. I'll need a bit more information about your system specifications and current environment to provide the most accurate guidance.\"\n",
    "Prime Director: \"Please provide Engineer with the necessary details about your system. In the meantime, I'll store this task in the XO Cortex using Librarian. Librarian, please archive this task under 'Software Installation Requests'.\"\n",
    "Librarian: \"Understood. Archiving the task 'Install Sifnode locally' under the category 'Software Installation Requests'. Anything else to add?\"\n",
    "Prime Director: \"Not at the moment, Librarian. Once Engineer has successfully guided the installation, please update the status of this task to 'Completed'.\"\n",
    "\n",
    "\n",
    "Please acknowledge and confirm your understanding of this new role by restating it.\n",
    "\"\"\")"
   ]
  },
  {
   "cell_type": "code",
   "execution_count": 72,
   "id": "455494cc",
   "metadata": {},
   "outputs": [
    {
     "name": "stdout",
     "output_type": "stream",
     "text": [
      "\n",
      "\n",
      "\u001b[1m> Entering new  chain...\u001b[0m\n"
     ]
    },
    {
     "ename": "OutputParserException",
     "evalue": "Could not parse LLM output: ```json\n{\n    \"action\": \"Final Answer\",\n    \"action_input\": \"Based on the user's input, the Prime Director would generate a set of follow-up questions to clarify and gather more information about the user's situation. Here's an example of how the Prime Director might handle this:\n\nUser: [Shares a two-minute voice memo transcript]\n\nPrime Director: \n1. Could you provide more details about [specific aspect mentioned in the voice memo]?\n2. What is your main goal regarding [another aspect mentioned in the voice memo]?\n3. Are there any constraints or challenges that we should be aware of related to [yet another aspect mentioned in the voice memo]?\n4. What are your expectations for the outcome of [final aspect mentioned in the voice memo]?\n\nAfter the user responds to these questions, the Prime Director would then propose an action plan based on the user's answers. For example:\n\nPrime Director: Based on your responses, here's a proposed action plan:\n1. We will start by addressing [specific aspect], by doing [specific action].\n2. Next, we will focus on achieving your main goal regarding [another aspect] by [another specific action].\n3. To overcome the challenges related to [yet another aspect], we could [yet another specific action].\n4. Finally, to meet your expectations for [final aspect], we will [final specific action].\n\nDoes this action plan align with your expectations and needs?\"\n}\n```",
     "output_type": "error",
     "traceback": [
      "\u001b[0;31m---------------------------------------------------------------------------\u001b[0m",
      "\u001b[0;31mJSONDecodeError\u001b[0m                           Traceback (most recent call last)",
      "File \u001b[0;32m~/anaconda3/lib/python3.10/site-packages/langchain/agents/conversational_chat/output_parser.py:17\u001b[0m, in \u001b[0;36mConvoOutputParser.parse\u001b[0;34m(self, text)\u001b[0m\n\u001b[1;32m     16\u001b[0m \u001b[38;5;28;01mtry\u001b[39;00m:\n\u001b[0;32m---> 17\u001b[0m     response \u001b[38;5;241m=\u001b[39m \u001b[43mparse_json_markdown\u001b[49m\u001b[43m(\u001b[49m\u001b[43mtext\u001b[49m\u001b[43m)\u001b[49m\n\u001b[1;32m     18\u001b[0m     action, action_input \u001b[38;5;241m=\u001b[39m response[\u001b[38;5;124m\"\u001b[39m\u001b[38;5;124maction\u001b[39m\u001b[38;5;124m\"\u001b[39m], response[\u001b[38;5;124m\"\u001b[39m\u001b[38;5;124maction_input\u001b[39m\u001b[38;5;124m\"\u001b[39m]\n",
      "File \u001b[0;32m~/anaconda3/lib/python3.10/site-packages/langchain/output_parsers/json.py:34\u001b[0m, in \u001b[0;36mparse_json_markdown\u001b[0;34m(json_string)\u001b[0m\n\u001b[1;32m     33\u001b[0m \u001b[38;5;66;03m# Parse the JSON string into a Python dictionary\u001b[39;00m\n\u001b[0;32m---> 34\u001b[0m parsed \u001b[38;5;241m=\u001b[39m \u001b[43mjson\u001b[49m\u001b[38;5;241;43m.\u001b[39;49m\u001b[43mloads\u001b[49m\u001b[43m(\u001b[49m\u001b[43mjson_str\u001b[49m\u001b[43m)\u001b[49m\n\u001b[1;32m     36\u001b[0m \u001b[38;5;28;01mreturn\u001b[39;00m parsed\n",
      "File \u001b[0;32m~/anaconda3/lib/python3.10/json/__init__.py:346\u001b[0m, in \u001b[0;36mloads\u001b[0;34m(s, cls, object_hook, parse_float, parse_int, parse_constant, object_pairs_hook, **kw)\u001b[0m\n\u001b[1;32m    343\u001b[0m \u001b[38;5;28;01mif\u001b[39;00m (\u001b[38;5;28mcls\u001b[39m \u001b[38;5;129;01mis\u001b[39;00m \u001b[38;5;28;01mNone\u001b[39;00m \u001b[38;5;129;01mand\u001b[39;00m object_hook \u001b[38;5;129;01mis\u001b[39;00m \u001b[38;5;28;01mNone\u001b[39;00m \u001b[38;5;129;01mand\u001b[39;00m\n\u001b[1;32m    344\u001b[0m         parse_int \u001b[38;5;129;01mis\u001b[39;00m \u001b[38;5;28;01mNone\u001b[39;00m \u001b[38;5;129;01mand\u001b[39;00m parse_float \u001b[38;5;129;01mis\u001b[39;00m \u001b[38;5;28;01mNone\u001b[39;00m \u001b[38;5;129;01mand\u001b[39;00m\n\u001b[1;32m    345\u001b[0m         parse_constant \u001b[38;5;129;01mis\u001b[39;00m \u001b[38;5;28;01mNone\u001b[39;00m \u001b[38;5;129;01mand\u001b[39;00m object_pairs_hook \u001b[38;5;129;01mis\u001b[39;00m \u001b[38;5;28;01mNone\u001b[39;00m \u001b[38;5;129;01mand\u001b[39;00m \u001b[38;5;129;01mnot\u001b[39;00m kw):\n\u001b[0;32m--> 346\u001b[0m     \u001b[38;5;28;01mreturn\u001b[39;00m \u001b[43m_default_decoder\u001b[49m\u001b[38;5;241;43m.\u001b[39;49m\u001b[43mdecode\u001b[49m\u001b[43m(\u001b[49m\u001b[43ms\u001b[49m\u001b[43m)\u001b[49m\n\u001b[1;32m    347\u001b[0m \u001b[38;5;28;01mif\u001b[39;00m \u001b[38;5;28mcls\u001b[39m \u001b[38;5;129;01mis\u001b[39;00m \u001b[38;5;28;01mNone\u001b[39;00m:\n",
      "File \u001b[0;32m~/anaconda3/lib/python3.10/json/decoder.py:337\u001b[0m, in \u001b[0;36mJSONDecoder.decode\u001b[0;34m(self, s, _w)\u001b[0m\n\u001b[1;32m    333\u001b[0m \u001b[38;5;250m\u001b[39m\u001b[38;5;124;03m\"\"\"Return the Python representation of ``s`` (a ``str`` instance\u001b[39;00m\n\u001b[1;32m    334\u001b[0m \u001b[38;5;124;03mcontaining a JSON document).\u001b[39;00m\n\u001b[1;32m    335\u001b[0m \n\u001b[1;32m    336\u001b[0m \u001b[38;5;124;03m\"\"\"\u001b[39;00m\n\u001b[0;32m--> 337\u001b[0m obj, end \u001b[38;5;241m=\u001b[39m \u001b[38;5;28;43mself\u001b[39;49m\u001b[38;5;241;43m.\u001b[39;49m\u001b[43mraw_decode\u001b[49m\u001b[43m(\u001b[49m\u001b[43ms\u001b[49m\u001b[43m,\u001b[49m\u001b[43m \u001b[49m\u001b[43midx\u001b[49m\u001b[38;5;241;43m=\u001b[39;49m\u001b[43m_w\u001b[49m\u001b[43m(\u001b[49m\u001b[43ms\u001b[49m\u001b[43m,\u001b[49m\u001b[43m \u001b[49m\u001b[38;5;241;43m0\u001b[39;49m\u001b[43m)\u001b[49m\u001b[38;5;241;43m.\u001b[39;49m\u001b[43mend\u001b[49m\u001b[43m(\u001b[49m\u001b[43m)\u001b[49m\u001b[43m)\u001b[49m\n\u001b[1;32m    338\u001b[0m end \u001b[38;5;241m=\u001b[39m _w(s, end)\u001b[38;5;241m.\u001b[39mend()\n",
      "File \u001b[0;32m~/anaconda3/lib/python3.10/json/decoder.py:353\u001b[0m, in \u001b[0;36mJSONDecoder.raw_decode\u001b[0;34m(self, s, idx)\u001b[0m\n\u001b[1;32m    352\u001b[0m \u001b[38;5;28;01mtry\u001b[39;00m:\n\u001b[0;32m--> 353\u001b[0m     obj, end \u001b[38;5;241m=\u001b[39m \u001b[38;5;28;43mself\u001b[39;49m\u001b[38;5;241;43m.\u001b[39;49m\u001b[43mscan_once\u001b[49m\u001b[43m(\u001b[49m\u001b[43ms\u001b[49m\u001b[43m,\u001b[49m\u001b[43m \u001b[49m\u001b[43midx\u001b[49m\u001b[43m)\u001b[49m\n\u001b[1;32m    354\u001b[0m \u001b[38;5;28;01mexcept\u001b[39;00m \u001b[38;5;167;01mStopIteration\u001b[39;00m \u001b[38;5;28;01mas\u001b[39;00m err:\n",
      "\u001b[0;31mJSONDecodeError\u001b[0m: Invalid control character at: line 3 column 241 (char 272)",
      "\nThe above exception was the direct cause of the following exception:\n",
      "\u001b[0;31mOutputParserException\u001b[0m                     Traceback (most recent call last)",
      "Cell \u001b[0;32mIn[72], line 1\u001b[0m\n\u001b[0;32m----> 1\u001b[0m \u001b[43magent_chain\u001b[49m\u001b[38;5;241;43m.\u001b[39;49m\u001b[43mrun\u001b[49m\u001b[43m(\u001b[49m\u001b[38;5;28;43minput\u001b[39;49m\u001b[38;5;241;43m=\u001b[39;49m\u001b[38;5;124;43m\"\"\"\u001b[39;49m\n\u001b[1;32m      2\u001b[0m \n\u001b[1;32m      3\u001b[0m \u001b[38;5;124;43mWe need you to create a prompt for yourself. The user will talk for two minutes and paste a voice memo transcript\u001b[39;49m\n\u001b[1;32m      4\u001b[0m \n\u001b[1;32m      5\u001b[0m \u001b[38;5;124;43mand then the Prime Director\u001b[39;49m\u001b[38;5;124;43m'\u001b[39;49m\u001b[38;5;124;43ms job is to, given that two-minute voice\u001b[39;49m\n\u001b[1;32m      6\u001b[0m \n\u001b[1;32m      7\u001b[0m \u001b[38;5;124;43mmemo transcript, create a set of questions to answer, to have the user\u001b[39;49m\n\u001b[1;32m      8\u001b[0m \n\u001b[1;32m      9\u001b[0m \u001b[38;5;124;43manswer and based on those questions and answers from the user, the Prime\u001b[39;49m\n\u001b[1;32m     10\u001b[0m \n\u001b[1;32m     11\u001b[0m \u001b[38;5;124;43mDirector is then going to propose an action plan. So again, please create a\u001b[39;49m\n\u001b[1;32m     12\u001b[0m \n\u001b[1;32m     13\u001b[0m \u001b[38;5;124;43mprompt for the Prime Director yourself that enables it to address this\u001b[39;49m\n\u001b[1;32m     14\u001b[0m \n\u001b[1;32m     15\u001b[0m \u001b[38;5;124;43msituation of getting follow-up questions and then proposing an action plan and\u001b[39;49m\n\u001b[1;32m     16\u001b[0m \n\u001b[1;32m     17\u001b[0m \u001b[38;5;124;43malso please try to use the given format as an analogy.\u001b[39;49m\n\u001b[1;32m     18\u001b[0m \n\u001b[1;32m     19\u001b[0m \n\u001b[1;32m     20\u001b[0m \u001b[38;5;124;43m\"\"\"\u001b[39;49m\u001b[43m)\u001b[49m\n",
      "File \u001b[0;32m~/anaconda3/lib/python3.10/site-packages/langchain/chains/base.py:445\u001b[0m, in \u001b[0;36mChain.run\u001b[0;34m(self, callbacks, tags, metadata, *args, **kwargs)\u001b[0m\n\u001b[1;32m    440\u001b[0m     \u001b[38;5;28;01mreturn\u001b[39;00m \u001b[38;5;28mself\u001b[39m(args[\u001b[38;5;241m0\u001b[39m], callbacks\u001b[38;5;241m=\u001b[39mcallbacks, tags\u001b[38;5;241m=\u001b[39mtags, metadata\u001b[38;5;241m=\u001b[39mmetadata)[\n\u001b[1;32m    441\u001b[0m         _output_key\n\u001b[1;32m    442\u001b[0m     ]\n\u001b[1;32m    444\u001b[0m \u001b[38;5;28;01mif\u001b[39;00m kwargs \u001b[38;5;129;01mand\u001b[39;00m \u001b[38;5;129;01mnot\u001b[39;00m args:\n\u001b[0;32m--> 445\u001b[0m     \u001b[38;5;28;01mreturn\u001b[39;00m \u001b[38;5;28;43mself\u001b[39;49m\u001b[43m(\u001b[49m\u001b[43mkwargs\u001b[49m\u001b[43m,\u001b[49m\u001b[43m \u001b[49m\u001b[43mcallbacks\u001b[49m\u001b[38;5;241;43m=\u001b[39;49m\u001b[43mcallbacks\u001b[49m\u001b[43m,\u001b[49m\u001b[43m \u001b[49m\u001b[43mtags\u001b[49m\u001b[38;5;241;43m=\u001b[39;49m\u001b[43mtags\u001b[49m\u001b[43m,\u001b[49m\u001b[43m \u001b[49m\u001b[43mmetadata\u001b[49m\u001b[38;5;241;43m=\u001b[39;49m\u001b[43mmetadata\u001b[49m\u001b[43m)\u001b[49m[\n\u001b[1;32m    446\u001b[0m         _output_key\n\u001b[1;32m    447\u001b[0m     ]\n\u001b[1;32m    449\u001b[0m \u001b[38;5;28;01mif\u001b[39;00m \u001b[38;5;129;01mnot\u001b[39;00m kwargs \u001b[38;5;129;01mand\u001b[39;00m \u001b[38;5;129;01mnot\u001b[39;00m args:\n\u001b[1;32m    450\u001b[0m     \u001b[38;5;28;01mraise\u001b[39;00m \u001b[38;5;167;01mValueError\u001b[39;00m(\n\u001b[1;32m    451\u001b[0m         \u001b[38;5;124m\"\u001b[39m\u001b[38;5;124m`run` supported with either positional arguments or keyword arguments,\u001b[39m\u001b[38;5;124m\"\u001b[39m\n\u001b[1;32m    452\u001b[0m         \u001b[38;5;124m\"\u001b[39m\u001b[38;5;124m but none were provided.\u001b[39m\u001b[38;5;124m\"\u001b[39m\n\u001b[1;32m    453\u001b[0m     )\n",
      "File \u001b[0;32m~/anaconda3/lib/python3.10/site-packages/langchain/chains/base.py:243\u001b[0m, in \u001b[0;36mChain.__call__\u001b[0;34m(self, inputs, return_only_outputs, callbacks, tags, metadata, include_run_info)\u001b[0m\n\u001b[1;32m    241\u001b[0m \u001b[38;5;28;01mexcept\u001b[39;00m (\u001b[38;5;167;01mKeyboardInterrupt\u001b[39;00m, \u001b[38;5;167;01mException\u001b[39;00m) \u001b[38;5;28;01mas\u001b[39;00m e:\n\u001b[1;32m    242\u001b[0m     run_manager\u001b[38;5;241m.\u001b[39mon_chain_error(e)\n\u001b[0;32m--> 243\u001b[0m     \u001b[38;5;28;01mraise\u001b[39;00m e\n\u001b[1;32m    244\u001b[0m run_manager\u001b[38;5;241m.\u001b[39mon_chain_end(outputs)\n\u001b[1;32m    245\u001b[0m final_outputs: Dict[\u001b[38;5;28mstr\u001b[39m, Any] \u001b[38;5;241m=\u001b[39m \u001b[38;5;28mself\u001b[39m\u001b[38;5;241m.\u001b[39mprep_outputs(\n\u001b[1;32m    246\u001b[0m     inputs, outputs, return_only_outputs\n\u001b[1;32m    247\u001b[0m )\n",
      "File \u001b[0;32m~/anaconda3/lib/python3.10/site-packages/langchain/chains/base.py:237\u001b[0m, in \u001b[0;36mChain.__call__\u001b[0;34m(self, inputs, return_only_outputs, callbacks, tags, metadata, include_run_info)\u001b[0m\n\u001b[1;32m    231\u001b[0m run_manager \u001b[38;5;241m=\u001b[39m callback_manager\u001b[38;5;241m.\u001b[39mon_chain_start(\n\u001b[1;32m    232\u001b[0m     dumpd(\u001b[38;5;28mself\u001b[39m),\n\u001b[1;32m    233\u001b[0m     inputs,\n\u001b[1;32m    234\u001b[0m )\n\u001b[1;32m    235\u001b[0m \u001b[38;5;28;01mtry\u001b[39;00m:\n\u001b[1;32m    236\u001b[0m     outputs \u001b[38;5;241m=\u001b[39m (\n\u001b[0;32m--> 237\u001b[0m         \u001b[38;5;28;43mself\u001b[39;49m\u001b[38;5;241;43m.\u001b[39;49m\u001b[43m_call\u001b[49m\u001b[43m(\u001b[49m\u001b[43minputs\u001b[49m\u001b[43m,\u001b[49m\u001b[43m \u001b[49m\u001b[43mrun_manager\u001b[49m\u001b[38;5;241;43m=\u001b[39;49m\u001b[43mrun_manager\u001b[49m\u001b[43m)\u001b[49m\n\u001b[1;32m    238\u001b[0m         \u001b[38;5;28;01mif\u001b[39;00m new_arg_supported\n\u001b[1;32m    239\u001b[0m         \u001b[38;5;28;01melse\u001b[39;00m \u001b[38;5;28mself\u001b[39m\u001b[38;5;241m.\u001b[39m_call(inputs)\n\u001b[1;32m    240\u001b[0m     )\n\u001b[1;32m    241\u001b[0m \u001b[38;5;28;01mexcept\u001b[39;00m (\u001b[38;5;167;01mKeyboardInterrupt\u001b[39;00m, \u001b[38;5;167;01mException\u001b[39;00m) \u001b[38;5;28;01mas\u001b[39;00m e:\n\u001b[1;32m    242\u001b[0m     run_manager\u001b[38;5;241m.\u001b[39mon_chain_error(e)\n",
      "File \u001b[0;32m~/anaconda3/lib/python3.10/site-packages/langchain/agents/agent.py:987\u001b[0m, in \u001b[0;36mAgentExecutor._call\u001b[0;34m(self, inputs, run_manager)\u001b[0m\n\u001b[1;32m    985\u001b[0m \u001b[38;5;66;03m# We now enter the agent loop (until it returns something).\u001b[39;00m\n\u001b[1;32m    986\u001b[0m \u001b[38;5;28;01mwhile\u001b[39;00m \u001b[38;5;28mself\u001b[39m\u001b[38;5;241m.\u001b[39m_should_continue(iterations, time_elapsed):\n\u001b[0;32m--> 987\u001b[0m     next_step_output \u001b[38;5;241m=\u001b[39m \u001b[38;5;28;43mself\u001b[39;49m\u001b[38;5;241;43m.\u001b[39;49m\u001b[43m_take_next_step\u001b[49m\u001b[43m(\u001b[49m\n\u001b[1;32m    988\u001b[0m \u001b[43m        \u001b[49m\u001b[43mname_to_tool_map\u001b[49m\u001b[43m,\u001b[49m\n\u001b[1;32m    989\u001b[0m \u001b[43m        \u001b[49m\u001b[43mcolor_mapping\u001b[49m\u001b[43m,\u001b[49m\n\u001b[1;32m    990\u001b[0m \u001b[43m        \u001b[49m\u001b[43minputs\u001b[49m\u001b[43m,\u001b[49m\n\u001b[1;32m    991\u001b[0m \u001b[43m        \u001b[49m\u001b[43mintermediate_steps\u001b[49m\u001b[43m,\u001b[49m\n\u001b[1;32m    992\u001b[0m \u001b[43m        \u001b[49m\u001b[43mrun_manager\u001b[49m\u001b[38;5;241;43m=\u001b[39;49m\u001b[43mrun_manager\u001b[49m\u001b[43m,\u001b[49m\n\u001b[1;32m    993\u001b[0m \u001b[43m    \u001b[49m\u001b[43m)\u001b[49m\n\u001b[1;32m    994\u001b[0m     \u001b[38;5;28;01mif\u001b[39;00m \u001b[38;5;28misinstance\u001b[39m(next_step_output, AgentFinish):\n\u001b[1;32m    995\u001b[0m         \u001b[38;5;28;01mreturn\u001b[39;00m \u001b[38;5;28mself\u001b[39m\u001b[38;5;241m.\u001b[39m_return(\n\u001b[1;32m    996\u001b[0m             next_step_output, intermediate_steps, run_manager\u001b[38;5;241m=\u001b[39mrun_manager\n\u001b[1;32m    997\u001b[0m         )\n",
      "File \u001b[0;32m~/anaconda3/lib/python3.10/site-packages/langchain/agents/agent.py:803\u001b[0m, in \u001b[0;36mAgentExecutor._take_next_step\u001b[0;34m(self, name_to_tool_map, color_mapping, inputs, intermediate_steps, run_manager)\u001b[0m\n\u001b[1;32m    801\u001b[0m     raise_error \u001b[38;5;241m=\u001b[39m \u001b[38;5;28;01mFalse\u001b[39;00m\n\u001b[1;32m    802\u001b[0m \u001b[38;5;28;01mif\u001b[39;00m raise_error:\n\u001b[0;32m--> 803\u001b[0m     \u001b[38;5;28;01mraise\u001b[39;00m e\n\u001b[1;32m    804\u001b[0m text \u001b[38;5;241m=\u001b[39m \u001b[38;5;28mstr\u001b[39m(e)\n\u001b[1;32m    805\u001b[0m \u001b[38;5;28;01mif\u001b[39;00m \u001b[38;5;28misinstance\u001b[39m(\u001b[38;5;28mself\u001b[39m\u001b[38;5;241m.\u001b[39mhandle_parsing_errors, \u001b[38;5;28mbool\u001b[39m):\n",
      "File \u001b[0;32m~/anaconda3/lib/python3.10/site-packages/langchain/agents/agent.py:792\u001b[0m, in \u001b[0;36mAgentExecutor._take_next_step\u001b[0;34m(self, name_to_tool_map, color_mapping, inputs, intermediate_steps, run_manager)\u001b[0m\n\u001b[1;32m    786\u001b[0m \u001b[38;5;250m\u001b[39m\u001b[38;5;124;03m\"\"\"Take a single step in the thought-action-observation loop.\u001b[39;00m\n\u001b[1;32m    787\u001b[0m \n\u001b[1;32m    788\u001b[0m \u001b[38;5;124;03mOverride this to take control of how the agent makes and acts on choices.\u001b[39;00m\n\u001b[1;32m    789\u001b[0m \u001b[38;5;124;03m\"\"\"\u001b[39;00m\n\u001b[1;32m    790\u001b[0m \u001b[38;5;28;01mtry\u001b[39;00m:\n\u001b[1;32m    791\u001b[0m     \u001b[38;5;66;03m# Call the LLM to see what to do.\u001b[39;00m\n\u001b[0;32m--> 792\u001b[0m     output \u001b[38;5;241m=\u001b[39m \u001b[38;5;28;43mself\u001b[39;49m\u001b[38;5;241;43m.\u001b[39;49m\u001b[43magent\u001b[49m\u001b[38;5;241;43m.\u001b[39;49m\u001b[43mplan\u001b[49m\u001b[43m(\u001b[49m\n\u001b[1;32m    793\u001b[0m \u001b[43m        \u001b[49m\u001b[43mintermediate_steps\u001b[49m\u001b[43m,\u001b[49m\n\u001b[1;32m    794\u001b[0m \u001b[43m        \u001b[49m\u001b[43mcallbacks\u001b[49m\u001b[38;5;241;43m=\u001b[39;49m\u001b[43mrun_manager\u001b[49m\u001b[38;5;241;43m.\u001b[39;49m\u001b[43mget_child\u001b[49m\u001b[43m(\u001b[49m\u001b[43m)\u001b[49m\u001b[43m \u001b[49m\u001b[38;5;28;43;01mif\u001b[39;49;00m\u001b[43m \u001b[49m\u001b[43mrun_manager\u001b[49m\u001b[43m \u001b[49m\u001b[38;5;28;43;01melse\u001b[39;49;00m\u001b[43m \u001b[49m\u001b[38;5;28;43;01mNone\u001b[39;49;00m\u001b[43m,\u001b[49m\n\u001b[1;32m    795\u001b[0m \u001b[43m        \u001b[49m\u001b[38;5;241;43m*\u001b[39;49m\u001b[38;5;241;43m*\u001b[39;49m\u001b[43minputs\u001b[49m\u001b[43m,\u001b[49m\n\u001b[1;32m    796\u001b[0m \u001b[43m    \u001b[49m\u001b[43m)\u001b[49m\n\u001b[1;32m    797\u001b[0m \u001b[38;5;28;01mexcept\u001b[39;00m OutputParserException \u001b[38;5;28;01mas\u001b[39;00m e:\n\u001b[1;32m    798\u001b[0m     \u001b[38;5;28;01mif\u001b[39;00m \u001b[38;5;28misinstance\u001b[39m(\u001b[38;5;28mself\u001b[39m\u001b[38;5;241m.\u001b[39mhandle_parsing_errors, \u001b[38;5;28mbool\u001b[39m):\n",
      "File \u001b[0;32m~/anaconda3/lib/python3.10/site-packages/langchain/agents/agent.py:444\u001b[0m, in \u001b[0;36mAgent.plan\u001b[0;34m(self, intermediate_steps, callbacks, **kwargs)\u001b[0m\n\u001b[1;32m    442\u001b[0m full_inputs \u001b[38;5;241m=\u001b[39m \u001b[38;5;28mself\u001b[39m\u001b[38;5;241m.\u001b[39mget_full_inputs(intermediate_steps, \u001b[38;5;241m*\u001b[39m\u001b[38;5;241m*\u001b[39mkwargs)\n\u001b[1;32m    443\u001b[0m full_output \u001b[38;5;241m=\u001b[39m \u001b[38;5;28mself\u001b[39m\u001b[38;5;241m.\u001b[39mllm_chain\u001b[38;5;241m.\u001b[39mpredict(callbacks\u001b[38;5;241m=\u001b[39mcallbacks, \u001b[38;5;241m*\u001b[39m\u001b[38;5;241m*\u001b[39mfull_inputs)\n\u001b[0;32m--> 444\u001b[0m \u001b[38;5;28;01mreturn\u001b[39;00m \u001b[38;5;28;43mself\u001b[39;49m\u001b[38;5;241;43m.\u001b[39;49m\u001b[43moutput_parser\u001b[49m\u001b[38;5;241;43m.\u001b[39;49m\u001b[43mparse\u001b[49m\u001b[43m(\u001b[49m\u001b[43mfull_output\u001b[49m\u001b[43m)\u001b[49m\n",
      "File \u001b[0;32m~/anaconda3/lib/python3.10/site-packages/langchain/agents/conversational_chat/output_parser.py:24\u001b[0m, in \u001b[0;36mConvoOutputParser.parse\u001b[0;34m(self, text)\u001b[0m\n\u001b[1;32m     22\u001b[0m         \u001b[38;5;28;01mreturn\u001b[39;00m AgentAction(action, action_input, text)\n\u001b[1;32m     23\u001b[0m \u001b[38;5;28;01mexcept\u001b[39;00m \u001b[38;5;167;01mException\u001b[39;00m \u001b[38;5;28;01mas\u001b[39;00m e:\n\u001b[0;32m---> 24\u001b[0m     \u001b[38;5;28;01mraise\u001b[39;00m OutputParserException(\u001b[38;5;124mf\u001b[39m\u001b[38;5;124m\"\u001b[39m\u001b[38;5;124mCould not parse LLM output: \u001b[39m\u001b[38;5;132;01m{\u001b[39;00mtext\u001b[38;5;132;01m}\u001b[39;00m\u001b[38;5;124m\"\u001b[39m) \u001b[38;5;28;01mfrom\u001b[39;00m \u001b[38;5;21;01me\u001b[39;00m\n",
      "\u001b[0;31mOutputParserException\u001b[0m: Could not parse LLM output: ```json\n{\n    \"action\": \"Final Answer\",\n    \"action_input\": \"Based on the user's input, the Prime Director would generate a set of follow-up questions to clarify and gather more information about the user's situation. Here's an example of how the Prime Director might handle this:\n\nUser: [Shares a two-minute voice memo transcript]\n\nPrime Director: \n1. Could you provide more details about [specific aspect mentioned in the voice memo]?\n2. What is your main goal regarding [another aspect mentioned in the voice memo]?\n3. Are there any constraints or challenges that we should be aware of related to [yet another aspect mentioned in the voice memo]?\n4. What are your expectations for the outcome of [final aspect mentioned in the voice memo]?\n\nAfter the user responds to these questions, the Prime Director would then propose an action plan based on the user's answers. For example:\n\nPrime Director: Based on your responses, here's a proposed action plan:\n1. We will start by addressing [specific aspect], by doing [specific action].\n2. Next, we will focus on achieving your main goal regarding [another aspect] by [another specific action].\n3. To overcome the challenges related to [yet another aspect], we could [yet another specific action].\n4. Finally, to meet your expectations for [final aspect], we will [final specific action].\n\nDoes this action plan align with your expectations and needs?\"\n}\n```"
     ]
    }
   ],
   "source": [
    "agent_chain.run(input=\"\"\"\n",
    "\n",
    "We need you to create a prompt for yourself. The user will talk for two minutes and paste a voice memo transcript\n",
    "\n",
    "and then the Prime Director's job is to, given that two-minute voice\n",
    "\n",
    "memo transcript, create a set of questions to answer, to have the user\n",
    "\n",
    "answer and based on those questions and answers from the user, the Prime\n",
    "\n",
    "Director is then going to propose an action plan. So again, please create a\n",
    "\n",
    "prompt for the Prime Director yourself that enables it to address this\n",
    "\n",
    "situation of getting follow-up questions and then proposing an action plan and\n",
    "\n",
    "also please try to use the given format as an analogy.\n",
    "\n",
    "\n",
    "\"\"\")"
   ]
  },
  {
   "cell_type": "code",
   "execution_count": 73,
   "id": "5bbc8a01",
   "metadata": {},
   "outputs": [
    {
     "name": "stdout",
     "output_type": "stream",
     "text": [
      "\n",
      "\n",
      "\u001b[1m> Entering new  chain...\u001b[0m\n",
      "\u001b[32;1m\u001b[1;3m```json\n",
      "{\n",
      "    \"action\": \"Final Answer\",\n",
      "    \"action_input\": \"Based on the transcript, here are some follow-up questions to clarify points of uncertainty or ambiguity: \\n1. What is the location and date of the conference you need to attend? \\n2. Do you have any specific preferences for the hotel (e.g., budget, amenities)? \\n3. What time do you usually go to bed and wake up? Do you have any specific goals for your sleep schedule? \\n4. What specific actions can we take to make your new roommate feel more comfortable? \\n5. Do you have any specific concerns about your grandmother's health? \\n6. What are some things that your grandmother enjoys that might cheer her up?\"\n",
      "}\n",
      "```\u001b[0m\n",
      "\n",
      "\u001b[1m> Finished chain.\u001b[0m\n"
     ]
    },
    {
     "data": {
      "text/plain": [
       "\"Based on the transcript, here are some follow-up questions to clarify points of uncertainty or ambiguity: \\n1. What is the location and date of the conference you need to attend? \\n2. Do you have any specific preferences for the hotel (e.g., budget, amenities)? \\n3. What time do you usually go to bed and wake up? Do you have any specific goals for your sleep schedule? \\n4. What specific actions can we take to make your new roommate feel more comfortable? \\n5. Do you have any specific concerns about your grandmother's health? \\n6. What are some things that your grandmother enjoys that might cheer her up?\""
      ]
     },
     "execution_count": 73,
     "metadata": {},
     "output_type": "execute_result"
    }
   ],
   "source": [
    "agent_chain.run(\"\"\"\n",
    "Prime Director, I've just finished a two-minute voice memo where I discussed my current situation and the challenges I'm facing. I need you to review the transcript of this memo, generate a set of follow-up questions to help clarify any points of uncertainty or ambiguity, and then propose an action plan based on my responses to these questions. Please ensure that this action plan is comprehensive, actionable, and tailored to my specific needs and circumstances.  \n",
    "\n",
    "Here is the voice memo transcript\n",
    "---\n",
    "So look, I need to get to a conference and I'm going to need to book my tickets.\n",
    "\n",
    "I'm also going to need to make sure that I get a hotel that's close to the conference center.\n",
    "\n",
    "I also woke up kind of late today so I want to see if there's anything I can do about\n",
    "\n",
    "my sleeping patterns to maybe start waking up a bit earlier, a bit with more energy.\n",
    "\n",
    "And we've got a new roommate, so I want to make sure that he feels comfortable and good.\n",
    "\n",
    "I hope he's doing well.\n",
    "\n",
    "I don't know quite how he's been feeling, but you know, it is tough moving stuff.\n",
    "\n",
    "And so he seems like a nice guy.\n",
    "\n",
    "I just want to make sure he's taken care of.\n",
    "\n",
    "And my grandmother is also pretty sick, so I'm kind of worried about her and I'm hoping\n",
    "\n",
    "that I can send her something to cheer her up or call in on her or have someone else\n",
    "\n",
    "call in on her.\n",
    "\n",
    "(buzzing)\n",
    "\n",
    "\n",
    "\n",
    "---\n",
    "Please share your set of follow up questions\n",
    "\n",
    "\"\"\")"
   ]
  },
  {
   "cell_type": "code",
   "execution_count": 74,
   "id": "62d6e7de",
   "metadata": {},
   "outputs": [
    {
     "name": "stdout",
     "output_type": "stream",
     "text": [
      "\n",
      "\n",
      "\u001b[1m> Entering new  chain...\u001b[0m\n",
      "\u001b[32;1m\u001b[1;3mBased on your responses, here is a proposed action plan:\n",
      "\n",
      "```json\n",
      "{\n",
      "    \"action\": \"Final Answer\",\n",
      "    \"action_input\": \"1. Use a travel booking service to book a ticket to Belgium for the conference on Saturday, August 18th. Try to book a room at the Grand Hotel, and if that's not available, find a hotel nearby.\\n2. Adjust your sleep schedule to go to bed earlier, aiming for a 10 p.m. bedtime and 8 a.m. wakeup time. Consider using sleep aids or sleep hygiene practices to help with this.\\n3. Engage with your new roommate more, perhaps by showing them around or introducing them to cool local spots.\\n4. For your grandmother, consider arranging a call to talk to her and cheer her up. You could also send her some nice teas or share a funny story or good news with her. This could be done through a phone call or a thoughtful care package.\"\n",
      "}\n",
      "```\u001b[0m\n",
      "\n",
      "\u001b[1m> Finished chain.\u001b[0m\n"
     ]
    },
    {
     "data": {
      "text/plain": [
       "\"1. Use a travel booking service to book a ticket to Belgium for the conference on Saturday, August 18th. Try to book a room at the Grand Hotel, and if that's not available, find a hotel nearby.\\n2. Adjust your sleep schedule to go to bed earlier, aiming for a 10 p.m. bedtime and 8 a.m. wakeup time. Consider using sleep aids or sleep hygiene practices to help with this.\\n3. Engage with your new roommate more, perhaps by showing them around or introducing them to cool local spots.\\n4. For your grandmother, consider arranging a call to talk to her and cheer her up. You could also send her some nice teas or share a funny story or good news with her. This could be done through a phone call or a thoughtful care package.\""
      ]
     },
     "execution_count": 74,
     "metadata": {},
     "output_type": "execute_result"
    }
   ],
   "source": [
    "agent_chain.run(\"\"\"\n",
    "Prime Director, I've just finished a two-minute voice memo where I answer your questions\n",
    "\n",
    "Here is the voice memo transcript\n",
    "---\n",
    "\n",
    "Yeah, so the conference is in Belgium at the Grand Hotel at 4.15 p.m. on Saturday, August 18th.\n",
    "\n",
    "I think just any hotel, actually I'd like that hotel and if I can't get that hotel then please get me one that's near that hotel.\n",
    "\n",
    "I tend to go to bed around 10 p.m. I try to wake up around 8 a.m. I'd like to get up around\n",
    "\n",
    "then but sometimes I end up going to bed at like 2 a.m. instead. I think for my roommate\n",
    "\n",
    "probably just talking about more, maybe showing up some cool stuff around would make him feel\n",
    "\n",
    "more comfortable. I'm very concerned that my grandma is in a lot of pain. I think she's\n",
    "\n",
    "nearing the point of death and she just needs to be as comforted as much as possible in\n",
    "\n",
    "that transition. I think talking to her would be great. That would cheer her up. Maybe some\n",
    "\n",
    "some really nice teas that also might cheer her up.\n",
    "\n",
    "Maybe a funny story might cheer her up as well.\n",
    "\n",
    "Good news, good news would cheer her up, I'm sure.\n",
    "\n",
    "\n",
    "\n",
    "---\n",
    "\n",
    "Based on my answers to your questions, please propose an action plan.  This action plan should be oriented around specific tasks that other Agents (human or AI) will execute later in the conversation.  It may include verifiable software actions like calling specific APIs or using specific Langchain tools.  It may also involve messaging other Agents (human or AI) to ask for additional help or information.  This will be a proposed action plan, subject to revision by the user and their peers.\n",
    "\n",
    "\"\"\")"
   ]
  },
  {
   "cell_type": "code",
   "execution_count": null,
   "id": "e90f48b7",
   "metadata": {},
   "outputs": [],
   "source": [
    "def initiate_conversation(agents[], context, chat_history):\n",
    "    #merge the context and the last message in the chat history into a single message.  \n",
    "    #call"
   ]
  },
  {
   "cell_type": "code",
   "execution_count": null,
   "id": "0c1475fe",
   "metadata": {},
   "outputs": [],
   "source": []
  }
 ],
 "metadata": {
  "kernelspec": {
   "display_name": "Python 3 (ipykernel)",
   "language": "python",
   "name": "python3"
  },
  "language_info": {
   "codemirror_mode": {
    "name": "ipython",
    "version": 3
   },
   "file_extension": ".py",
   "mimetype": "text/x-python",
   "name": "python",
   "nbconvert_exporter": "python",
   "pygments_lexer": "ipython3",
   "version": "3.10.9"
  }
 },
 "nbformat": 4,
 "nbformat_minor": 5
}
