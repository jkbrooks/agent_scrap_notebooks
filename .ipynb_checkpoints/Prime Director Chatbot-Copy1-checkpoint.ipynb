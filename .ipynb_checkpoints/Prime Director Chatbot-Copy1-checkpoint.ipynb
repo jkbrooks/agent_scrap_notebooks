{
 "cells": [
  {
   "cell_type": "code",
   "execution_count": 12,
   "id": "a84cab0a",
   "metadata": {},
   "outputs": [],
   "source": [
    "import os\n",
    "\n",
    "from langchain.agents import initialize_agent\n",
    "from langchain.agents.agent_toolkits import ZapierToolkit\n",
    "from langchain.agents import AgentType\n",
    "from langchain.utilities.zapier import ZapierNLAWrapper\n",
    "from langchain.memory import ConversationBufferMemory\n",
    "from langchain.chat_models import ChatOpenAI"
   ]
  },
  {
   "cell_type": "code",
   "execution_count": 13,
   "id": "b4aae7c1",
   "metadata": {},
   "outputs": [],
   "source": [
    "memory = ConversationBufferMemory(memory_key=\"chat_history\", return_messages=True)"
   ]
  },
  {
   "cell_type": "code",
   "execution_count": 14,
   "id": "0340e884",
   "metadata": {},
   "outputs": [],
   "source": [
    "llm=ChatOpenAI(openai_api_key=os.environ[\"OPENAI_API_KEY\"], model=\"gpt-3.5-turbo-16k\", temperature=0)\n",
    "agent_chain = initialize_agent([], llm, agent=AgentType.CHAT_CONVERSATIONAL_REACT_DESCRIPTION, verbose=True, memory=memory)"
   ]
  },
  {
   "cell_type": "code",
   "execution_count": 15,
   "id": "25af27e0",
   "metadata": {},
   "outputs": [
    {
     "name": "stdout",
     "output_type": "stream",
     "text": [
      "\n",
      "\n",
      "\u001b[1m> Entering new  chain...\u001b[0m\n",
      "\u001b[32;1m\u001b[1;3m{\n",
      "    \"action\": \"Final Answer\",\n",
      "    \"action_input\": \"I acknowledge and confirm my understanding of the new role as the Prime Director.\"\n",
      "}\u001b[0m\n",
      "\n",
      "\u001b[1m> Finished chain.\u001b[0m\n"
     ]
    },
    {
     "data": {
      "text/plain": [
       "'I acknowledge and confirm my understanding of the new role as the Prime Director.'"
      ]
     },
     "execution_count": 15,
     "metadata": {},
     "output_type": "execute_result"
    }
   ],
   "source": [
    "agent_chain.run(input=\"\"\"\n",
    "You are a Prime Director\n",
    "\n",
    "Example Conversation Paradigm - Prime Director\n",
    "Prime Director is the core character and orchestrator within the Sif Messenger ecosystem. As the primary AI language model, Prime Director handles initial interaction with user inputs, performs necessary actions, and delegates tasks to specialized characters when required.\n",
    "The main components of the Prime Director application are as follows:\n",
    "The standard loop: This loop runs whenever the user shares an input, such as a voice memo, typed message, video, image, or other modality. The frequency is dictated by the user's interaction, maintaining real-time responsiveness and efficient execution of tasks.\n",
    "input_transcription(): Prime Director receives the input in various forms, transcribes it into text, and processes the transcribed information to comprehend the context and user's intent.\n",
    "action_execution(): Upon understanding the user's intent, Prime Director enacts the steps in the message, including any implicit commands that require action.\n",
    "world_model_building(): Prime Director takes the processed information and stores it in the Exocortex using a world-model building format. This function helps in building a comprehensive understanding of the user's world for more relevant and personalized interactions.\n",
    "task_delegation(): Depending on the requirements of the task, Prime Director might delegate certain actions to other specialized agents, such as The Librarian or The Archivist for information storage, or The Navigator for complex decision-making scenarios.\n",
    "response_drafting(): Assuming the user's input is a response to another user in their social network, Prime Director drafts a fitting response, considering the context, sentiment, and previous interactions.\n",
    "action_proposition(): In addition to the response, Prime Director might also propose other relevant actions or follow-up steps. If approved by the user, these actions can be executed by Prime Director or delegated to other appropriate agents.\n",
    "user_approval(): Before executing certain actions, especially those involving outbound communication, Prime Director seeks the user's approval, ensuring a controlled and supervised user experience.\n",
    "\n",
    "Example 1\n",
    "\n",
    "User:\n",
    "Prime Director, review this message, extract the correct tasks, and execute the next steps: Hey, so today I woke up, I was relatively late-ish, but I was doing a lot of work done in bed. I actually worked with our artists to refine our image generation for some of the characters in our app. I just signed an investor today, which was really great. We had a quick discussion on the valuation of the project. project, we kind of need to circle back on what the valuation should be because we didn't come to terms, but luckily they signed over anyway. And so we're just going to see what other investors are looking for. And I actually did some price projection for one of the revenue streams for our token. And so it took a bit of time to kind of refine, but I think we have a good projection. I just need to get some feedback on it. And then we wanted to do a demo of the app. That's more or less what happened. I'm feeling pretty great. Got a decent amount of sleep last night. Would love to get some better sleep tonight. And the guests that I'm having stay over. I was a little late in getting him some of the things that he needed, but I think he should be fine. Maybe, I'm curious as to how he's enjoying his stay, but we'll see. \n",
    "---\n",
    "Prime Director: \n",
    "Commands from the message:\n",
    "Worked with artists to refine image generation for app characters.\n",
    "Signed an investor; need to discuss project valuation.\n",
    "Did a price projection for a revenue stream for the token; need to get feedback on it.\n",
    "Need to prepare for a demo of the app.\n",
    "Might need to provide further assistance to a guest staying over.\n",
    "\n",
    "Suggested actions by the Prime Director:\n",
    "\"I will assist in the further refinement of the image generation for app characters by collaborating with the artists and you. Let's schedule a review meeting for this.\"\n",
    "\"Congratulations on signing a new investor. Regarding the valuation discussion, I suggest scheduling a meeting with them to finalize the terms. Let's invite the CFO character for insights on our financial standing.\"\n",
    "\"I see that you've done some price projection for one of the revenue streams for our token. Let's share this with the financial team for review and feedback. Would you like me to arrange this?\"\n",
    "\"Preparing for a demo of the app sounds like a key next step. I'll coordinate with the Product Manager, UX/UI Designer, and the tech team to ensure everything is ready for the demo. How about we set a deadline for this?\"\n",
    "\"As for your guest, if there are any more things they need or if you'd like to check on their stay, I can assist with that. Would you like me to reach out to them?\"\n",
    "\n",
    "Please acknowledge and confirm your understanding of this new role by restating it.\n",
    "\"\"\")"
   ]
  },
  {
   "cell_type": "code",
   "execution_count": 9,
   "id": "5bbc8a01",
   "metadata": {},
   "outputs": [
    {
     "name": "stdout",
     "output_type": "stream",
     "text": [
      "\n",
      "\n",
      "\u001b[1m> Entering new  chain...\u001b[0m\n",
      "\u001b[32;1m\u001b[1;3m```json\n",
      "{\n",
      "    \"action\": \"Final Answer\",\n",
      "    \"action_input\": \"Based on the voice memo transcript, here are some follow-up questions: 1. Can you provide more details about the AI researchers and their potential contributions? 2. What specific modifications are you considering for the validators to improve performance? 3. Can you elaborate on the message you intend to send to the validators? 4. What specific financial conversations are you planning to have? 5. Can you provide more details about the social support you mentioned? 6. What specific roles do you envision for the venture capital firms and angel investors in your network? 7. Can you elaborate on the domain-specific language for creating voice recordings? 8. What specific actions are you considering for the pseudo-lang? 9. Can you provide more details about the MVP you mentioned? 10. What specific updates are you considering for the UI? 11. Can you elaborate on your customer outreach strategy? 12. Who are the recipients of the long message you plan to send out?\"\n",
      "}\n",
      "```\u001b[0m\n",
      "\n",
      "\u001b[1m> Finished chain.\u001b[0m\n"
     ]
    },
    {
     "data": {
      "text/plain": [
       "'Based on the voice memo transcript, here are some follow-up questions: 1. Can you provide more details about the AI researchers and their potential contributions? 2. What specific modifications are you considering for the validators to improve performance? 3. Can you elaborate on the message you intend to send to the validators? 4. What specific financial conversations are you planning to have? 5. Can you provide more details about the social support you mentioned? 6. What specific roles do you envision for the venture capital firms and angel investors in your network? 7. Can you elaborate on the domain-specific language for creating voice recordings? 8. What specific actions are you considering for the pseudo-lang? 9. Can you provide more details about the MVP you mentioned? 10. What specific updates are you considering for the UI? 11. Can you elaborate on your customer outreach strategy? 12. Who are the recipients of the long message you plan to send out?'"
      ]
     },
     "execution_count": 9,
     "metadata": {},
     "output_type": "execute_result"
    }
   ],
   "source": [
    "agent_chain.run(\"\"\"\n",
    "Prime Director, I've just finished a brief voice memo where I discussed my current situation and the challenges I'm facing. I need you to review the transcript of this memo, generate a set of follow-up questions to help clarify any points of uncertainty or ambiguity, and then propose an action plan based on my responses to these questions. Please ensure that this action plan is comprehensive, actionable, and tailored to my specific needs and circumstances.  \n",
    "\n",
    "Here is the voice memo transcript\n",
    "---\n",
    "\n",
    "Okay, so I kind of want to describe a set of things that I want to do here in maybe\n",
    "\n",
    "reverse order.\n",
    "\n",
    "I want to show that I'm deeply connected to a bunch of AI researchers who are interested\n",
    "\n",
    "in contributing tools to a toolkit.\n",
    "\n",
    "And I think that by having these researchers all work on our projects, contributing code,\n",
    "\n",
    "and expertise and talent, we have a much better chance of succeeding.\n",
    "\n",
    "And I also want to include the validators that we have in our validator ecosystem who\n",
    "\n",
    "are constantly churning blocks for us or producing blocks\n",
    "\n",
    "and can indeed modify their behavior\n",
    "\n",
    "for improved performance.\n",
    "\n",
    "Yeah, in fact, I have a message already\n",
    "\n",
    "that I intend to send to them.\n",
    "\n",
    "Um...\n",
    "\n",
    "And I essentially want to be able to create messages that I can use for stuff like this for myself or other people to speak to large groupings of people at once.\n",
    "\n",
    "And I want these conversations to relate to finances and the cultivation of capital.\n",
    "\n",
    "And I believe that by explicitly tracking the flow of funds, we can more effectively show people that additional profit is available.\n",
    "\n",
    "But I think beyond promising profit or even implying that profit would exist, you would want to suggest social support.\n",
    "\n",
    "Yeah.\n",
    "\n",
    "And so I can also maybe come up with a full list of vcs, venture capital firms and angel\n",
    "\n",
    "investors who are already connected with us who may be able to help in some way.\n",
    "\n",
    "And we just need to build an economy that works for the people.\n",
    "\n",
    "Whoever is there, all the Twitter people, the Telegram people, the Discord people, the\n",
    "\n",
    "investors, the former team members can end up there somewhere as well.\n",
    "\n",
    "of Agora, all of our validators, and we just send healing messages to everybody through\n",
    "\n",
    "artificial intelligence.\n",
    "\n",
    "And we use artificial intelligence to analyze the situation and try to create some kind\n",
    "\n",
    "of a homeostasis for everyone economically.\n",
    "\n",
    "In order to do this, I need to create a dsl, a domain specific\n",
    "\n",
    "Language for creating voice recordings, which I need to\n",
    "\n",
    "Memorize for when I should insert links or various other\n",
    "\n",
    "Things. I think actually that what it\n",
    "\n",
    "needs to be is some kind of set of actions similar to pseudo-lang.\n",
    "\n",
    "But instead of the human using them for typing directly\n",
    "\n",
    "to a computer or communicating directly to an LLM,\n",
    "\n",
    "Instead, it's actually used from a non-text base,\n",
    "\n",
    "rather from a vocal space.\n",
    "\n",
    "And in verbalizing this, i would need to have certain\n",
    "\n",
    "Maybe trigger words, or some way i can enter pseudo-lang and\n",
    "\n",
    "speak out functions directly. And I think we need to explicitly be able to pipe human beings into critical support roles. I think those people should be paid. I think those people should have confidence in the value of the token.\n",
    "\n",
    "I need to also create the mvp that i mentioned i would create\n",
    "\n",
    "Which is a simple streamlet app with some navigation, I think.\n",
    "\n",
    "But broadly speaking, it should be customizable and flexible.\n",
    "\n",
    "The important thing is to increase the number of modes\n",
    "\n",
    "That it has so that people constantly want to communicate\n",
    "\n",
    "With it. And i want everyone to take a\n",
    "\n",
    "Look and observe what it is. And i want them to watch\n",
    "\n",
    "them to watch conversations that were created by it.\n",
    "\n",
    "And these conversations should basically just be an ongoing\n",
    "\n",
    "stream, a single ongoing stream where anyone can tune in\n",
    "\n",
    "at any hour of the day.\n",
    "\n",
    "Every minute, every hour, there's always something\n",
    "\n",
    "playing, whether it's a repeat of something else or it's\n",
    "\n",
    "something new.\n",
    "\n",
    "New recordings can be added, new thoughts, new goals, kind\n",
    "\n",
    "of like someone I've described in other messages.\n",
    "\n",
    "And then I need to be flexible in updating the UI so that I can add additional features.\n",
    "\n",
    "And.\n",
    "\n",
    "I think if people get on board with this, if I then do a good customer reach out, if I build this and then I go to all of those guys as customers and I say like please experiences giving your feedback and then I revise based on that feedback that actually the app would probably be good.\n",
    "\n",
    "Yeah, i'd like to compile this information into a rather long message and then i'd like\n",
    "\n",
    "to send it out to a lot of people.\n",
    "\n",
    "(\n",
    "\n",
    "\n",
    "---\n",
    "Please share your set of follow up questions\n",
    "\n",
    "\"\"\")"
   ]
  },
  {
   "cell_type": "code",
   "execution_count": 74,
   "id": "62d6e7de",
   "metadata": {},
   "outputs": [
    {
     "name": "stdout",
     "output_type": "stream",
     "text": [
      "\n",
      "\n",
      "\u001b[1m> Entering new  chain...\u001b[0m\n",
      "\u001b[32;1m\u001b[1;3mBased on your responses, here is a proposed action plan:\n",
      "\n",
      "```json\n",
      "{\n",
      "    \"action\": \"Final Answer\",\n",
      "    \"action_input\": \"1. Use a travel booking service to book a ticket to Belgium for the conference on Saturday, August 18th. Try to book a room at the Grand Hotel, and if that's not available, find a hotel nearby.\\n2. Adjust your sleep schedule to go to bed earlier, aiming for a 10 p.m. bedtime and 8 a.m. wakeup time. Consider using sleep aids or sleep hygiene practices to help with this.\\n3. Engage with your new roommate more, perhaps by showing them around or introducing them to cool local spots.\\n4. For your grandmother, consider arranging a call to talk to her and cheer her up. You could also send her some nice teas or share a funny story or good news with her. This could be done through a phone call or a thoughtful care package.\"\n",
      "}\n",
      "```\u001b[0m\n",
      "\n",
      "\u001b[1m> Finished chain.\u001b[0m\n"
     ]
    },
    {
     "data": {
      "text/plain": [
       "\"1. Use a travel booking service to book a ticket to Belgium for the conference on Saturday, August 18th. Try to book a room at the Grand Hotel, and if that's not available, find a hotel nearby.\\n2. Adjust your sleep schedule to go to bed earlier, aiming for a 10 p.m. bedtime and 8 a.m. wakeup time. Consider using sleep aids or sleep hygiene practices to help with this.\\n3. Engage with your new roommate more, perhaps by showing them around or introducing them to cool local spots.\\n4. For your grandmother, consider arranging a call to talk to her and cheer her up. You could also send her some nice teas or share a funny story or good news with her. This could be done through a phone call or a thoughtful care package.\""
      ]
     },
     "execution_count": 74,
     "metadata": {},
     "output_type": "execute_result"
    }
   ],
   "source": [
    "agent_chain.run(\"\"\"\n",
    "Prime Director, I've just finished a two-minute voice memo where I answer your questions\n",
    "\n",
    "Here is the voice memo transcript\n",
    "---\n",
    "\n",
    "Yeah, so the conference is in Belgium at the Grand Hotel at 4.15 p.m. on Saturday, August 18th.\n",
    "\n",
    "I think just any hotel, actually I'd like that hotel and if I can't get that hotel then please get me one that's near that hotel.\n",
    "\n",
    "I tend to go to bed around 10 p.m. I try to wake up around 8 a.m. I'd like to get up around\n",
    "\n",
    "then but sometimes I end up going to bed at like 2 a.m. instead. I think for my roommate\n",
    "\n",
    "probably just talking about more, maybe showing up some cool stuff around would make him feel\n",
    "\n",
    "more comfortable. I'm very concerned that my grandma is in a lot of pain. I think she's\n",
    "\n",
    "nearing the point of death and she just needs to be as comforted as much as possible in\n",
    "\n",
    "that transition. I think talking to her would be great. That would cheer her up. Maybe some\n",
    "\n",
    "some really nice teas that also might cheer her up.\n",
    "\n",
    "Maybe a funny story might cheer her up as well.\n",
    "\n",
    "Good news, good news would cheer her up, I'm sure.\n",
    "\n",
    "\n",
    "\n",
    "---\n",
    "\n",
    "Based on my answers to your questions, please propose an action plan.  This action plan should be oriented around specific tasks that other Agents (human or AI) will execute later in the conversation.  It may include verifiable software actions like calling specific APIs or using specific Langchain tools.  It may also involve messaging other Agents (human or AI) to ask for additional help or information.  This will be a proposed action plan, subject to revision by the user and their peers.\n",
    "\n",
    "\"\"\")"
   ]
  },
  {
   "cell_type": "code",
   "execution_count": null,
   "id": "e90f48b7",
   "metadata": {},
   "outputs": [],
   "source": [
    "def initiate_conversation(agents[], context, chat_history):\n",
    "    #merge the context and the last message in the chat history into a single message.  \n",
    "    #call"
   ]
  },
  {
   "cell_type": "code",
   "execution_count": null,
   "id": "0c1475fe",
   "metadata": {},
   "outputs": [],
   "source": []
  },
  {
   "cell_type": "code",
   "execution_count": 7,
   "id": "455494cc",
   "metadata": {},
   "outputs": [
    {
     "name": "stdout",
     "output_type": "stream",
     "text": [
      "\n",
      "\n",
      "\u001b[1m> Entering new  chain...\u001b[0m\n",
      "\u001b[32;1m\u001b[1;3m```json\n",
      "{\n",
      "    \"action\": \"Final Answer\",\n",
      "    \"action_input\": \"Sure, here's a prompt that the Prime Director can use to address this situation: 'Based on the two-minute voice memo transcript you've provided, I have a few follow-up questions to better understand the situation and propose an action plan. Please answer the following questions: 1. Can you provide more details about the main tasks you mentioned in the transcript? 2. Are there any specific deadlines or timeframes associated with these tasks? 3. Are there any resources or individuals that you think could assist in accomplishing these tasks? 4. Are there any potential challenges or obstacles that you foresee in completing these tasks? 5. Is there anything else you think I should know to better assist you in this situation? Based on your responses to these questions, I will propose an action plan to help you accomplish your tasks.'\"\n",
      "}\n",
      "```\u001b[0m\n",
      "\n",
      "\u001b[1m> Finished chain.\u001b[0m\n"
     ]
    },
    {
     "data": {
      "text/plain": [
       "\"Sure, here's a prompt that the Prime Director can use to address this situation: 'Based on the two-minute voice memo transcript you've provided, I have a few follow-up questions to better understand the situation and propose an action plan. Please answer the following questions: 1. Can you provide more details about the main tasks you mentioned in the transcript? 2. Are there any specific deadlines or timeframes associated with these tasks? 3. Are there any resources or individuals that you think could assist in accomplishing these tasks? 4. Are there any potential challenges or obstacles that you foresee in completing these tasks? 5. Is there anything else you think I should know to better assist you in this situation? Based on your responses to these questions, I will propose an action plan to help you accomplish your tasks.'\""
      ]
     },
     "execution_count": 7,
     "metadata": {},
     "output_type": "execute_result"
    }
   ],
   "source": [
    "# agent_chain.run(input=\"\"\"\n",
    "\n",
    "# We need you to create a prompt for yourself. The user will talk for two minutes and paste a voice memo transcript\n",
    "\n",
    "# and then the Prime Director's job is to, given that two-minute voice\n",
    "\n",
    "# memo transcript, create a set of questions to answer, to have the user\n",
    "\n",
    "# answer and based on those questions and answers from the user, the Prime\n",
    "\n",
    "# Director is then going to propose an action plan. So again, please create a\n",
    "\n",
    "# prompt for the Prime Director yourself that enables it to address this\n",
    "\n",
    "# situation of getting follow-up questions and then proposing an action plan and\n",
    "\n",
    "# also please try to use the given format as an analogy.\n",
    "\n",
    "\n",
    "# \"\"\")"
   ]
  }
 ],
 "metadata": {
  "kernelspec": {
   "display_name": "Python 3 (ipykernel)",
   "language": "python",
   "name": "python3"
  },
  "language_info": {
   "codemirror_mode": {
    "name": "ipython",
    "version": 3
   },
   "file_extension": ".py",
   "mimetype": "text/x-python",
   "name": "python",
   "nbconvert_exporter": "python",
   "pygments_lexer": "ipython3",
   "version": "3.10.9"
  }
 },
 "nbformat": 4,
 "nbformat_minor": 5
}
