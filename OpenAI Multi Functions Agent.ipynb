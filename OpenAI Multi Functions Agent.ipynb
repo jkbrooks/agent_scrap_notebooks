{
 "cells": [
  {
   "cell_type": "code",
   "execution_count": 1,
   "metadata": {
    "id": "he11u7ILgdn4"
   },
   "outputs": [],
   "source": [
    "from langchain import SerpAPIWrapper\n",
    "from langchain.agents import initialize_agent, Tool\n",
    "from langchain.agents import AgentType\n",
    "from langchain.chat_models import ChatOpenAI"
   ]
  },
  {
   "cell_type": "code",
   "execution_count": 2,
   "metadata": {
    "id": "BRxrq7uhg2iP"
   },
   "outputs": [],
   "source": [
    "import os"
   ]
  },
  {
   "cell_type": "code",
   "execution_count": 3,
   "metadata": {
    "id": "2UEaXxnKg54v"
   },
   "outputs": [],
   "source": [
    "# Initialize the OpenAI language model\n",
    "llm = ChatOpenAI(temperature=0, model=\"gpt-3.5-turbo-0613\")\n",
    "\n",
    "# Initialize the SerpAPIWrapper for search functionality\n",
    "search = SerpAPIWrapper()\n",
    "\n",
    "# Define a list of tools offered by the agent\n",
    "tools = [\n",
    "    Tool(\n",
    "        name=\"Search\",\n",
    "        func=search.run,\n",
    "        description=\"Useful when you need to answer questions about current events. You should ask targeted questions.\"\n",
    "    ),\n",
    "]"
   ]
  },
  {
   "cell_type": "code",
   "execution_count": 4,
   "metadata": {
    "id": "EdzLeRexg7YO"
   },
   "outputs": [],
   "source": [
    "mrkl = initialize_agent(tools, llm, agent=AgentType.OPENAI_MULTI_FUNCTIONS, verbose=True)"
   ]
  },
  {
   "cell_type": "code",
   "execution_count": 5,
   "metadata": {
    "id": "LtaggKOxg81_"
   },
   "outputs": [],
   "source": [
    "# Do this so we can see exactly what's going on under the hood\n",
    "import langchain\n",
    "langchain.debug = True"
   ]
  },
  {
   "cell_type": "code",
   "execution_count": 6,
   "metadata": {
    "id": "d3CEODj4hFf4"
   },
   "outputs": [
    {
     "name": "stdout",
     "output_type": "stream",
     "text": [
      "\u001b[32;1m\u001b[1;3m[chain/start]\u001b[0m \u001b[1m[1:chain:AgentExecutor] Entering Chain run with input:\n",
      "\u001b[0m{\n",
      "  \"input\": \"What is the weather in LA and SF?\"\n",
      "}\n",
      "\u001b[32;1m\u001b[1;3m[llm/start]\u001b[0m \u001b[1m[1:chain:AgentExecutor > 2:llm:ChatOpenAI] Entering LLM run with input:\n",
      "\u001b[0m{\n",
      "  \"prompts\": [\n",
      "    \"System: You are a helpful AI assistant.\\nHuman: What is the weather in LA and SF?\"\n",
      "  ]\n",
      "}\n",
      "\u001b[36;1m\u001b[1;3m[llm/end]\u001b[0m \u001b[1m[1:chain:AgentExecutor > 2:llm:ChatOpenAI] [2.66s] Exiting LLM run with output:\n",
      "\u001b[0m{\n",
      "  \"generations\": [\n",
      "    [\n",
      "      {\n",
      "        \"text\": \"\",\n",
      "        \"generation_info\": null,\n",
      "        \"message\": {\n",
      "          \"lc\": 1,\n",
      "          \"type\": \"constructor\",\n",
      "          \"id\": [\n",
      "            \"langchain\",\n",
      "            \"schema\",\n",
      "            \"messages\",\n",
      "            \"AIMessage\"\n",
      "          ],\n",
      "          \"kwargs\": {\n",
      "            \"content\": \"\",\n",
      "            \"additional_kwargs\": {\n",
      "              \"function_call\": {\n",
      "                \"name\": \"tool_selection\",\n",
      "                \"arguments\": \"{\\n  \\\"actions\\\": [\\n    {\\n      \\\"action_name\\\": \\\"Search\\\",\\n      \\\"action\\\": {\\n        \\\"tool_input\\\": \\\"weather in Los Angeles\\\"\\n      }\\n    },\\n    {\\n      \\\"action_name\\\": \\\"Search\\\",\\n      \\\"action\\\": {\\n        \\\"tool_input\\\": \\\"weather in San Francisco\\\"\\n      }\\n    }\\n  ]\\n}\"\n",
      "              }\n",
      "            }\n",
      "          }\n",
      "        }\n",
      "      }\n",
      "    ]\n",
      "  ],\n",
      "  \"llm_output\": {\n",
      "    \"token_usage\": {\n",
      "      \"prompt_tokens\": 81,\n",
      "      \"completion_tokens\": 75,\n",
      "      \"total_tokens\": 156\n",
      "    },\n",
      "    \"model_name\": \"gpt-3.5-turbo-0613\"\n",
      "  },\n",
      "  \"run\": null\n",
      "}\n",
      "\u001b[32;1m\u001b[1;3m[tool/start]\u001b[0m \u001b[1m[1:chain:AgentExecutor > 3:tool:Search] Entering Tool run with input:\n",
      "\u001b[0m\"{'tool_input': 'weather in Los Angeles'}\"\n",
      "\u001b[36;1m\u001b[1;3m[tool/end]\u001b[0m \u001b[1m[1:chain:AgentExecutor > 3:tool:Search] [2.71s] Exiting Tool run with output:\n",
      "\u001b[0m\"10 Day Weather-Los Angeles, CA. As of 5:38 pm PDT. Tonight. --/62°. 5%. Tue 11 | Night. 62°. 5%. SW 6 mph. Partly cloudy. Low 62F. Winds light and variable.\"\n",
      "\u001b[32;1m\u001b[1;3m[tool/start]\u001b[0m \u001b[1m[1:chain:AgentExecutor > 4:tool:Search] Entering Tool run with input:\n",
      "\u001b[0m\"{'tool_input': 'weather in San Francisco'}\"\n",
      "\u001b[36;1m\u001b[1;3m[tool/end]\u001b[0m \u001b[1m[1:chain:AgentExecutor > 4:tool:Search] [1.65s] Exiting Tool run with output:\n",
      "\u001b[0m\"Partly cloudy skies. High 66F. Winds WSW at 10 to 20 mph. Humidity76%.\"\n",
      "\u001b[32;1m\u001b[1;3m[llm/start]\u001b[0m \u001b[1m[1:chain:AgentExecutor > 5:llm:ChatOpenAI] Entering LLM run with input:\n",
      "\u001b[0m{\n",
      "  \"prompts\": [\n",
      "    \"System: You are a helpful AI assistant.\\nHuman: What is the weather in LA and SF?\\nAI: {'name': 'tool_selection', 'arguments': '{\\\\n  \\\"actions\\\": [\\\\n    {\\\\n      \\\"action_name\\\": \\\"Search\\\",\\\\n      \\\"action\\\": {\\\\n        \\\"tool_input\\\": \\\"weather in Los Angeles\\\"\\\\n      }\\\\n    },\\\\n    {\\\\n      \\\"action_name\\\": \\\"Search\\\",\\\\n      \\\"action\\\": {\\\\n        \\\"tool_input\\\": \\\"weather in San Francisco\\\"\\\\n      }\\\\n    }\\\\n  ]\\\\n}'}\\nFunction: 10 Day Weather-Los Angeles, CA. As of 5:38 pm PDT. Tonight. --/62°. 5%. Tue 11 | Night. 62°. 5%. SW 6 mph. Partly cloudy. Low 62F. Winds light and variable.\\nAI: {'name': 'tool_selection', 'arguments': '{\\\\n  \\\"actions\\\": [\\\\n    {\\\\n      \\\"action_name\\\": \\\"Search\\\",\\\\n      \\\"action\\\": {\\\\n        \\\"tool_input\\\": \\\"weather in Los Angeles\\\"\\\\n      }\\\\n    },\\\\n    {\\\\n      \\\"action_name\\\": \\\"Search\\\",\\\\n      \\\"action\\\": {\\\\n        \\\"tool_input\\\": \\\"weather in San Francisco\\\"\\\\n      }\\\\n    }\\\\n  ]\\\\n}'}\\nFunction: Partly cloudy skies. High 66F. Winds WSW at 10 to 20 mph. Humidity76%.\"\n",
      "  ]\n",
      "}\n",
      "\u001b[36;1m\u001b[1;3m[llm/end]\u001b[0m \u001b[1m[1:chain:AgentExecutor > 5:llm:ChatOpenAI] [1.08s] Exiting LLM run with output:\n",
      "\u001b[0m{\n",
      "  \"generations\": [\n",
      "    [\n",
      "      {\n",
      "        \"text\": \"The weather in Los Angeles is currently partly cloudy with a temperature of 62°F. The weather in San Francisco is also partly cloudy with a temperature of 66°F.\",\n",
      "        \"generation_info\": null,\n",
      "        \"message\": {\n",
      "          \"lc\": 1,\n",
      "          \"type\": \"constructor\",\n",
      "          \"id\": [\n",
      "            \"langchain\",\n",
      "            \"schema\",\n",
      "            \"messages\",\n",
      "            \"AIMessage\"\n",
      "          ],\n",
      "          \"kwargs\": {\n",
      "            \"content\": \"The weather in Los Angeles is currently partly cloudy with a temperature of 62°F. The weather in San Francisco is also partly cloudy with a temperature of 66°F.\",\n",
      "            \"additional_kwargs\": {}\n",
      "          }\n",
      "        }\n",
      "      }\n",
      "    ]\n",
      "  ],\n",
      "  \"llm_output\": {\n",
      "    \"token_usage\": {\n",
      "      \"prompt_tokens\": 330,\n",
      "      \"completion_tokens\": 35,\n",
      "      \"total_tokens\": 365\n",
      "    },\n",
      "    \"model_name\": \"gpt-3.5-turbo-0613\"\n",
      "  },\n",
      "  \"run\": null\n",
      "}\n",
      "\u001b[36;1m\u001b[1;3m[chain/end]\u001b[0m \u001b[1m[1:chain:AgentExecutor] [8.12s] Exiting Chain run with output:\n",
      "\u001b[0m{\n",
      "  \"output\": \"The weather in Los Angeles is currently partly cloudy with a temperature of 62°F. The weather in San Francisco is also partly cloudy with a temperature of 66°F.\"\n",
      "}\n"
     ]
    },
    {
     "data": {
      "text/plain": [
       "'The weather in Los Angeles is currently partly cloudy with a temperature of 62°F. The weather in San Francisco is also partly cloudy with a temperature of 66°F.'"
      ]
     },
     "execution_count": 6,
     "metadata": {},
     "output_type": "execute_result"
    }
   ],
   "source": [
    "mrkl.run(\n",
    "    \"What does metamorphogenesis have to do with modern medicine?\"\n",
    ")"
   ]
  },
  {
   "cell_type": "code",
   "execution_count": 7,
   "metadata": {
    "id": "3U-ZzD1shQ-a"
   },
   "outputs": [],
   "source": [
    "mrkl = initialize_agent(\n",
    "    tools,\n",
    "    llm,\n",
    "    agent=AgentType.OPENAI_FUNCTIONS,\n",
    "    verbose=True,\n",
    "    max_iterations=2,\n",
    "    early_stopping_method=\"generate\"\n",
    ")"
   ]
  },
  {
   "cell_type": "code",
   "execution_count": 9,
   "metadata": {
    "id": "z_6ocKQIiQkg"
   },
   "outputs": [
    {
     "name": "stdout",
     "output_type": "stream",
     "text": [
      "\u001b[32;1m\u001b[1;3m[chain/start]\u001b[0m \u001b[1m[1:chain:AgentExecutor] Entering Chain run with input:\n",
      "\u001b[0m{\n",
      "  \"input\": \"What does metamorphogenesis have to do with modern medicine?\"\n",
      "}\n",
      "\u001b[32;1m\u001b[1;3m[llm/start]\u001b[0m \u001b[1m[1:chain:AgentExecutor > 2:llm:ChatOpenAI] Entering LLM run with input:\n",
      "\u001b[0m{\n",
      "  \"prompts\": [\n",
      "    \"System: You are a helpful AI assistant.\\nHuman: What does metamorphogenesis have to do with modern medicine?\"\n",
      "  ]\n",
      "}\n",
      "\u001b[36;1m\u001b[1;3m[llm/end]\u001b[0m \u001b[1m[1:chain:AgentExecutor > 2:llm:ChatOpenAI] [6.51s] Exiting LLM run with output:\n",
      "\u001b[0m{\n",
      "  \"generations\": [\n",
      "    [\n",
      "      {\n",
      "        \"text\": \"Metamorphogenesis is a term used to describe the process of transformation or development in living organisms. In the context of modern medicine, metamorphogenesis is not a commonly used term. However, if you are referring to the broader concept of metamorphosis, it can have some relevance to certain medical fields.\\n\\nMetamorphosis is a biological process that involves a profound change in the form and structure of an organism during its development. This process is well-known in insects, such as butterflies and beetles, where a larva transforms into an adult through a series of stages.\\n\\nIn the field of regenerative medicine, the study of metamorphosis can provide insights into the mechanisms of tissue regeneration and repair. Understanding how organisms naturally regenerate and transform their tissues during metamorphosis can potentially inform the development of new therapies for tissue regeneration in humans.\\n\\nAdditionally, the study of metamorphosis can also have implications in the field of developmental biology. By studying the genetic and molecular mechanisms underlying metamorphosis in different organisms, scientists can gain a better understanding of the processes involved in human development and potentially identify new targets for therapeutic interventions.\\n\\nIt's important to note that the specific relevance of metamorphosis to modern medicine may vary depending on the specific context and research focus.\",\n",
      "        \"generation_info\": null,\n",
      "        \"message\": {\n",
      "          \"lc\": 1,\n",
      "          \"type\": \"constructor\",\n",
      "          \"id\": [\n",
      "            \"langchain\",\n",
      "            \"schema\",\n",
      "            \"messages\",\n",
      "            \"AIMessage\"\n",
      "          ],\n",
      "          \"kwargs\": {\n",
      "            \"content\": \"Metamorphogenesis is a term used to describe the process of transformation or development in living organisms. In the context of modern medicine, metamorphogenesis is not a commonly used term. However, if you are referring to the broader concept of metamorphosis, it can have some relevance to certain medical fields.\\n\\nMetamorphosis is a biological process that involves a profound change in the form and structure of an organism during its development. This process is well-known in insects, such as butterflies and beetles, where a larva transforms into an adult through a series of stages.\\n\\nIn the field of regenerative medicine, the study of metamorphosis can provide insights into the mechanisms of tissue regeneration and repair. Understanding how organisms naturally regenerate and transform their tissues during metamorphosis can potentially inform the development of new therapies for tissue regeneration in humans.\\n\\nAdditionally, the study of metamorphosis can also have implications in the field of developmental biology. By studying the genetic and molecular mechanisms underlying metamorphosis in different organisms, scientists can gain a better understanding of the processes involved in human development and potentially identify new targets for therapeutic interventions.\\n\\nIt's important to note that the specific relevance of metamorphosis to modern medicine may vary depending on the specific context and research focus.\",\n",
      "            \"additional_kwargs\": {}\n",
      "          }\n",
      "        }\n",
      "      }\n",
      "    ]\n",
      "  ],\n",
      "  \"llm_output\": {\n",
      "    \"token_usage\": {\n",
      "      \"prompt_tokens\": 76,\n",
      "      \"completion_tokens\": 253,\n",
      "      \"total_tokens\": 329\n",
      "    },\n",
      "    \"model_name\": \"gpt-3.5-turbo-0613\"\n",
      "  },\n",
      "  \"run\": null\n",
      "}\n",
      "\u001b[36;1m\u001b[1;3m[chain/end]\u001b[0m \u001b[1m[1:chain:AgentExecutor] [6.52s] Exiting Chain run with output:\n",
      "\u001b[0m{\n",
      "  \"output\": \"Metamorphogenesis is a term used to describe the process of transformation or development in living organisms. In the context of modern medicine, metamorphogenesis is not a commonly used term. However, if you are referring to the broader concept of metamorphosis, it can have some relevance to certain medical fields.\\n\\nMetamorphosis is a biological process that involves a profound change in the form and structure of an organism during its development. This process is well-known in insects, such as butterflies and beetles, where a larva transforms into an adult through a series of stages.\\n\\nIn the field of regenerative medicine, the study of metamorphosis can provide insights into the mechanisms of tissue regeneration and repair. Understanding how organisms naturally regenerate and transform their tissues during metamorphosis can potentially inform the development of new therapies for tissue regeneration in humans.\\n\\nAdditionally, the study of metamorphosis can also have implications in the field of developmental biology. By studying the genetic and molecular mechanisms underlying metamorphosis in different organisms, scientists can gain a better understanding of the processes involved in human development and potentially identify new targets for therapeutic interventions.\\n\\nIt's important to note that the specific relevance of metamorphosis to modern medicine may vary depending on the specific context and research focus.\"\n",
      "}\n"
     ]
    },
    {
     "data": {
      "text/plain": [
       "\"Metamorphogenesis is a term used to describe the process of transformation or development in living organisms. In the context of modern medicine, metamorphogenesis is not a commonly used term. However, if you are referring to the broader concept of metamorphosis, it can have some relevance to certain medical fields.\\n\\nMetamorphosis is a biological process that involves a profound change in the form and structure of an organism during its development. This process is well-known in insects, such as butterflies and beetles, where a larva transforms into an adult through a series of stages.\\n\\nIn the field of regenerative medicine, the study of metamorphosis can provide insights into the mechanisms of tissue regeneration and repair. Understanding how organisms naturally regenerate and transform their tissues during metamorphosis can potentially inform the development of new therapies for tissue regeneration in humans.\\n\\nAdditionally, the study of metamorphosis can also have implications in the field of developmental biology. By studying the genetic and molecular mechanisms underlying metamorphosis in different organisms, scientists can gain a better understanding of the processes involved in human development and potentially identify new targets for therapeutic interventions.\\n\\nIt's important to note that the specific relevance of metamorphosis to modern medicine may vary depending on the specific context and research focus.\""
      ]
     },
     "execution_count": 9,
     "metadata": {},
     "output_type": "execute_result"
    }
   ],
   "source": [
    "mrkl.run(\n",
    "    \"What does metamorphogenesis have to do with modern medicine?\"\n",
    ")"
   ]
  },
  {
   "cell_type": "code",
   "execution_count": null,
   "metadata": {},
   "outputs": [],
   "source": []
  }
 ],
 "metadata": {
  "colab": {
   "authorship_tag": "ABX9TyPQp33gOfM5ymaGgfIHYUZF",
   "provenance": []
  },
  "kernelspec": {
   "display_name": "Python 3 (ipykernel)",
   "language": "python",
   "name": "python3"
  },
  "language_info": {
   "codemirror_mode": {
    "name": "ipython",
    "version": 3
   },
   "file_extension": ".py",
   "mimetype": "text/x-python",
   "name": "python",
   "nbconvert_exporter": "python",
   "pygments_lexer": "ipython3",
   "version": "3.10.9"
  }
 },
 "nbformat": 4,
 "nbformat_minor": 1
}
